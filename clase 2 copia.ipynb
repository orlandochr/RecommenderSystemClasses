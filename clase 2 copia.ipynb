{
 "cells": [
  {
   "cell_type": "markdown",
   "metadata": {
    "colab_type": "text",
    "id": "Alklq1sclE5b"
   },
   "source": [
    "\n",
    "# **Clase 2**: Recommender system basado en contenido\n",
    "\n",
    "Diego Galeano, Ph.D.\n",
    "\n",
    "Parcialmente basada en la version en ingles: https://colab.research.google.com/drive/1Q68oZBb35VcqYlLiVPO976d6kCvEO1Xt#scrollTo=gmznKTJG5kGf"
   ]
  },
  {
   "cell_type": "markdown",
   "metadata": {
    "colab_type": "text",
    "id": "PgAMy8OTlXqo"
   },
   "source": [
    "<a id='RS'></a>\n",
    "# Que es un sistema de recomendacion?\n",
    "\n",
    "Sistema de recomendación es el nombre que se le da a cualquier software diseñado para recomendarle objetos (para comprar, hacer clic o mirar) que le resulten atractivos con una alta probabilidad. El desarrollo de tales sistemas se convirtió en un tema candente para los desarrolladores de software y los ingenieros de aprendizaje automático en los últimos años. Un sistema de recomendación de buen rendimiento puede tener un impulso significativo en las ganancias que obtienen muchas plataformas en línea.\n",
    "\n",
    "Hoy en día, muchos de nosotros interactuamos con sistemas de recomendación a diario. Si tiene una cuenta en Amazon o Netflix o muchos servicios en línea similares, es posible que haya recibido sugerencias que a menudo se ajustan a sus intereses. Esto puede variar desde una película sugerida por Netflix o muy diversos productos sugeridos por Amazon. Los anuncios dirigidos en Facebook o los anuncios emergentes dirigidos en su navegador también son otros ejemplos de aplicaciones de sistemas de recomendación. Casi ninguna persona recibe exactamente los mismos anuncios o sugerencias en una plataforma en línea. Todas estas sugerencias y anuncios personalizados utilizan sistemas de recomendación para encontrar la que mejor se adapte a sus intereses de acuerdo con sus calificaciones, compras o clics anteriores.\n",
    "\n",
    "Uno de los enfoques más sencillos para encontrar una recomendación adecuada para los usuarios de una plataforma es el enfoque * Sistema de recomendación basado en contenido *. Este método determina un valor de calificación $ R_ {ij} $ para un usuario específico $ u_i $ que se otorga a un objeto específico $ o_j $ mediante el uso de un vector de características $ \\vec{x}_i $ para el usuario $i$ -ésimo y un vector de características para el $j$-ésimo objeto $\\vec{\\theta}_j$. \n",
    "\n",
    "El mayor problema con tales algoritmos es que necesitamos conocer las características importantes que tienen impacto en las decisiones que toma cada usuario. Es realmente difícil encontrar este conjunto de características. Incluso si podemos definir un conjunto razonablemente bueno de características importantes, el próximo gran desafío es calificar estas características para cada elemento y usuario. A menudo, dicha información no está disponible o no es práctico extraerla por completo. Aunque muchas plataformas tienen acceso a cierta información sobre los usuarios que se puede utilizar como características como la edad, el género, etc., a menudo esta información no es suficiente para construir vectores de características suficientemente buenos.\n",
    "\n"
   ]
  },
  {
   "cell_type": "markdown",
   "metadata": {
    "colab_type": "text",
    "id": "gLqvTeGsmqoK"
   },
   "source": [
    "$\\color{green}{\\text{Antes de comenzar}}$ vamos a correr la siguiente celda que tiene todas las librerias requeridas para este notebook."
   ]
  },
  {
   "cell_type": "code",
   "execution_count": 1,
   "metadata": {
    "colab": {
     "base_uri": "https://localhost:8080/",
     "height": 136
    },
    "colab_type": "code",
    "executionInfo": {
     "elapsed": 2773,
     "status": "ok",
     "timestamp": 1597520263628,
     "user": {
      "displayName": "Diego Galeano",
      "photoUrl": "https://lh3.googleusercontent.com/a-/AOh14GhQWXSahinhC5AIsR14l3qpJg37OGXBVT0uRAsarw=s64",
      "userId": "05605395687006727326"
     },
     "user_tz": 180
    },
    "id": "BuTvGQE0lIo_",
    "outputId": "671e6852-7f13-4380-b22c-4f5077420da8"
   },
   "outputs": [
    {
     "name": "stdout",
     "output_type": "stream",
     "text": [
      "C:\\orlando\\repo_github\\RecommenderSystemClasses\\Recommender-System\n"
     ]
    },
    {
     "name": "stderr",
     "output_type": "stream",
     "text": [
      "Cloning into 'Recommender-System'...\n",
      "error: invalid path '.gitattributes.'\n",
      "fatal: unable to checkout working tree\n",
      "warning: Clone succeeded, but checkout failed.\n",
      "You can inspect what was checked out with 'git status'\n",
      "and retry with 'git restore --source=HEAD :/'\n",
      "\n"
     ]
    }
   ],
   "source": [
    "import matplotlib.pyplot as plt\n",
    "import seaborn as sns\n",
    "import pandas as pd \n",
    "import numpy as np\n",
    "import copy\n",
    "import random\n",
    "import scipy.io\n",
    "from scipy.optimize import minimize\n",
    "from scipy.optimize import differential_evolution\n",
    "    \n",
    "# If you want to have direct access to the datasets and codes you can clone the following github repository    \n",
    "! git clone https://github.com/saminehbagheri/Recommender-System.git\n",
    "%cd Recommender-System  "
   ]
  },
  {
   "cell_type": "markdown",
   "metadata": {
    "colab_type": "text",
    "id": "91wb8R5enB8O"
   },
   "source": [
    "<a id='CBRS'></a>\n",
    "# Ejemplo de un sistema de recomendacion basado en contenido\n",
    "\n",
    "Comencemos con un ejemplo simple para el ** enfoque basado en contenido **.\n",
    "\n",
    "Imaginemos un pequeño problema en el que solo tenemos tres usuarios: Bob, Alicia y Pedro. Si asumimos que las únicas características importantes para estos usuarios (por supuesto, en un escenario muy simplificado) son cuánto es una película (1) romántica, (2) comedia o (3) acción, entonces podemos asumir un vector de características de tamaño 3 para cada usuario. $ \\vec{x}_i = \\{interes~en~romance,interes~en~comedia,interes~en~accion\\}$.\n",
    "\n",
    "Tuvimos la oportunidad de pedirles a nuestros tres usuarios que nos informaran sobre sus intereses completando sus vectores de características. Podrían haber calificado cada elemento con 0 si no tienen ningún interés, 1 si realmente les importa esa característica y 0.5 si sus sentimientos están en algún punto intermedio.\n",
    "\n",
    "A Alicia simplemente le gustan las películas románticas y no le gusta mucho la acción y la comedia, por lo que su vector de características se ve así: $ \\vec{x_a} = [1,0,0]$. A Bob le gustan las películas de comedia y no le gustan el romance ni la acción en absoluto $ \\vec{x_b} = [0,1,0] $. A Pedro no le gusta el romance, pero ama la acción y no le importa si hay sentido del humor en las películas, por lo que su vector de características se ve así: $ \\vec{x_p} = [0,0.5,1] $. Apilando todos estos vectores de características juntos tendremos la **matriz de características** del usuario."
   ]
  },
  {
   "cell_type": "code",
   "execution_count": 2,
   "metadata": {
    "colab": {
     "base_uri": "https://localhost:8080/",
     "height": 85
    },
    "colab_type": "code",
    "executionInfo": {
     "elapsed": 720,
     "status": "ok",
     "timestamp": 1597520268234,
     "user": {
      "displayName": "Diego Galeano",
      "photoUrl": "https://lh3.googleusercontent.com/a-/AOh14GhQWXSahinhC5AIsR14l3qpJg37OGXBVT0uRAsarw=s64",
      "userId": "05605395687006727326"
     },
     "user_tz": 180
    },
    "id": "4RgcssI4nC2d",
    "outputId": "78b7d855-3d8e-4907-eeb1-2f841fa37355"
   },
   "outputs": [
    {
     "name": "stdout",
     "output_type": "stream",
     "text": [
      "         Alicia  Bob  Pedro\n",
      "Romance       1  0.0      0\n",
      "Comedia       0  1.0      0\n",
      "Accion        0  0.5      1\n"
     ]
    }
   ],
   "source": [
    "USER=pd.DataFrame([( [1, 0, 0]), ( [0, 1, 0]), ( [0, 0.5, 1])], \n",
    "                  columns=['Alicia','Bob','Pedro'],\n",
    "                  index=['Romance','Comedia','Accion']);\n",
    "print(USER)"
   ]
  },
  {
   "cell_type": "markdown",
   "metadata": {
    "colab_type": "text",
    "id": "XSZeB8-Ao3e0"
   },
   "source": [
    "Tenemos tres películas en nuestro sistema Titanic, Terminator y Home Alone y queremos averiguar cuál es la mejor recomendación para cada usuario. Para hacer eso, necesitamos definir un vector de características para cada película. Le pedimos a algún experto que lo haga por nosotros. Titanic es una película muy romántica y no es divertida ni de acción en absoluto, así que es justo si calificamos su vector de características como $ \\vec{\\theta}_{Titanic} = [1,0,0] $. Terminator es una película de acción con muy poca esencia de romance y comedia, por lo que nuestro experto en películas completó el vector de características de Terminator como $ \\vec{\\theta}_{Terminator} = [0.2,0.1,1] $. Home Alone es una película de comedia $ \\vec{\\theta}_{HomeAlone} = [0.0,1,0.2] $. Apilando los vectores de caracteristicas de las películas juntas tendremos una **matriz de caracteristicas** de la película."
   ]
  },
  {
   "cell_type": "code",
   "execution_count": 3,
   "metadata": {
    "colab": {
     "base_uri": "https://localhost:8080/",
     "height": 85
    },
    "colab_type": "code",
    "executionInfo": {
     "elapsed": 803,
     "status": "ok",
     "timestamp": 1597520714002,
     "user": {
      "displayName": "Diego Galeano",
      "photoUrl": "https://lh3.googleusercontent.com/a-/AOh14GhQWXSahinhC5AIsR14l3qpJg37OGXBVT0uRAsarw=s64",
      "userId": "05605395687006727326"
     },
     "user_tz": 180
    },
    "id": "uOSp2O8coIhc",
    "outputId": "b7b1caff-53af-4a0a-fab7-40e83d29725e"
   },
   "outputs": [
    {
     "name": "stdout",
     "output_type": "stream",
     "text": [
      "         Titanic  Terminator  Home Alone\n",
      "Romance      1.0         0.0         0.0\n",
      "Comedia      0.2         0.1         1.0\n",
      "Accion       0.0         1.0         0.2\n"
     ]
    }
   ],
   "source": [
    "ITEM=pd.DataFrame([( [1, 0, 0]), ( [0.2, 0.1, 1]), ( [0, 1, 0.2])],\n",
    "                  columns=['Titanic','Terminator','Home Alone'],\n",
    "                  index=['Romance','Comedia','Accion']);\n",
    "print(ITEM)"
   ]
  },
  {
   "cell_type": "markdown",
   "metadata": {
    "colab_type": "text",
    "id": "4kYsByB8pkCE"
   },
   "source": [
    "El producto escalar del vector de características de usuario $i$-ésimo $ \\vec {x}_i $ y la característica de película $j$ -ésima $ \\vec{x}_j $ proporciona una especie de medida de similitud. Cuanto mayor sea el producto escalar $ \\vec {x_i} \\cdot \\vec{\\theta_j} = R_{ij} $ es más probable que al usuario $ i $ le guste la película $ j $. Podemos determinar todas las medidas de similitud para cada usuario y elemento simplemente multiplicando la matriz de características del usuario y la matriz de características de la película, de la siguiente manera:"
   ]
  },
  {
   "cell_type": "code",
   "execution_count": 4,
   "metadata": {
    "colab": {
     "base_uri": "https://localhost:8080/",
     "height": 85
    },
    "colab_type": "code",
    "executionInfo": {
     "elapsed": 691,
     "status": "ok",
     "timestamp": 1597520717365,
     "user": {
      "displayName": "Diego Galeano",
      "photoUrl": "https://lh3.googleusercontent.com/a-/AOh14GhQWXSahinhC5AIsR14l3qpJg37OGXBVT0uRAsarw=s64",
      "userId": "05605395687006727326"
     },
     "user_tz": 180
    },
    "id": "z1UaBKkupZjQ",
    "outputId": "4403cd80-e84f-40d3-c126-218c15acd0db"
   },
   "outputs": [
    {
     "name": "stdout",
     "output_type": "stream",
     "text": [
      "            Alicia  Bob  Pedro\n",
      "Titanic        1.0  0.2    0.0\n",
      "Terminator     0.0  0.6    1.0\n",
      "Home Alone     0.0  1.1    0.2\n"
     ]
    }
   ],
   "source": [
    "print(ITEM.T.dot(USER))"
   ]
  },
  {
   "cell_type": "markdown",
   "metadata": {
    "colab_type": "text",
    "id": "_JIDyvHHqEkG"
   },
   "source": [
    "Entonces, de acuerdo con este simple sistema, podemos recomendar Titanic a Alicia. Para Bob, podríamos recomendar Home Alone primero y como segunda opción Terminator. La mejor recomendación para Pedro es Terminator.\n",
    "\n",
    "Creo que ya está bastante claro que el principal problema con los sistemas recommnder basados en contenido es que no conocemos a priori las caracteristicas de los usuarios y las peliculas. No es trivial definir estas caraceristicas porque alguien podria ver una pelicula simplemente porque la pelicula es \"popular\". *Las caracteristicas de los usuarios y las peliculas que determinan que a un usuario le guste una pelicula son de hecho desconocidas.*"
   ]
  },
  {
   "cell_type": "markdown",
   "metadata": {
    "colab_type": "text",
    "id": "wNMtH3B3sJhz"
   },
   "source": [
    "## Movielens 100K"
   ]
  },
  {
   "cell_type": "code",
   "execution_count": 5,
   "metadata": {
    "colab": {
     "base_uri": "https://localhost:8080/",
     "height": 85
    },
    "colab_type": "code",
    "executionInfo": {
     "elapsed": 623,
     "status": "ok",
     "timestamp": 1597521756378,
     "user": {
      "displayName": "Diego Galeano",
      "photoUrl": "https://lh3.googleusercontent.com/a-/AOh14GhQWXSahinhC5AIsR14l3qpJg37OGXBVT0uRAsarw=s64",
      "userId": "05605395687006727326"
     },
     "user_tz": 180
    },
    "id": "O4LcHVwop1Gg",
    "outputId": "398cca47-3269-45a3-cf55-a6d67b0bb8e4"
   },
   "outputs": [
    {
     "ename": "FileNotFoundError",
     "evalue": "[Errno 2] No such file or directory: 'ex8_movies.mat'",
     "output_type": "error",
     "traceback": [
      "\u001b[1;31m---------------------------------------------------------------------------\u001b[0m",
      "\u001b[1;31mFileNotFoundError\u001b[0m                         Traceback (most recent call last)",
      "\u001b[1;32m~\\.conda\\envs\\UcomMachineLearning\\lib\\site-packages\\scipy\\io\\matlab\\mio.py\u001b[0m in \u001b[0;36m_open_file\u001b[1;34m(file_like, appendmat, mode)\u001b[0m\n\u001b[0;32m     38\u001b[0m     \u001b[1;32mtry\u001b[0m\u001b[1;33m:\u001b[0m\u001b[1;33m\u001b[0m\u001b[1;33m\u001b[0m\u001b[0m\n\u001b[1;32m---> 39\u001b[1;33m         \u001b[1;32mreturn\u001b[0m \u001b[0mopen\u001b[0m\u001b[1;33m(\u001b[0m\u001b[0mfile_like\u001b[0m\u001b[1;33m,\u001b[0m \u001b[0mmode\u001b[0m\u001b[1;33m)\u001b[0m\u001b[1;33m,\u001b[0m \u001b[1;32mTrue\u001b[0m\u001b[1;33m\u001b[0m\u001b[1;33m\u001b[0m\u001b[0m\n\u001b[0m\u001b[0;32m     40\u001b[0m     \u001b[1;32mexcept\u001b[0m \u001b[0mIOError\u001b[0m\u001b[1;33m:\u001b[0m\u001b[1;33m\u001b[0m\u001b[1;33m\u001b[0m\u001b[0m\n",
      "\u001b[1;31mFileNotFoundError\u001b[0m: [Errno 2] No such file or directory: 'ex8_movies.mat'",
      "\nDuring handling of the above exception, another exception occurred:\n",
      "\u001b[1;31mFileNotFoundError\u001b[0m                         Traceback (most recent call last)",
      "\u001b[1;32m<ipython-input-5-da5b55204c2e>\u001b[0m in \u001b[0;36m<module>\u001b[1;34m\u001b[0m\n\u001b[1;32m----> 1\u001b[1;33m \u001b[0mmat\u001b[0m \u001b[1;33m=\u001b[0m \u001b[0mscipy\u001b[0m\u001b[1;33m.\u001b[0m\u001b[0mio\u001b[0m\u001b[1;33m.\u001b[0m\u001b[0mloadmat\u001b[0m\u001b[1;33m(\u001b[0m\u001b[1;34m'ex8_movies.mat'\u001b[0m\u001b[1;33m)\u001b[0m\u001b[1;33m\u001b[0m\u001b[1;33m\u001b[0m\u001b[0m\n\u001b[0m\u001b[0;32m      2\u001b[0m \u001b[0mmovie_names\u001b[0m \u001b[1;33m=\u001b[0m \u001b[0mpd\u001b[0m\u001b[1;33m.\u001b[0m\u001b[0mread_csv\u001b[0m\u001b[1;33m(\u001b[0m\u001b[1;34m'movie_ids.txt'\u001b[0m\u001b[1;33m,\u001b[0m\u001b[0mdelimiter\u001b[0m\u001b[1;33m=\u001b[0m\u001b[1;34m';'\u001b[0m\u001b[1;33m,\u001b[0m\u001b[0mheader\u001b[0m\u001b[1;33m=\u001b[0m\u001b[1;32mNone\u001b[0m\u001b[1;33m)\u001b[0m\u001b[1;33m[\u001b[0m\u001b[1;36m1\u001b[0m\u001b[1;33m]\u001b[0m\u001b[1;33m\u001b[0m\u001b[1;33m\u001b[0m\u001b[0m\n\u001b[0;32m      3\u001b[0m \u001b[0mR\u001b[0m\u001b[1;33m=\u001b[0m\u001b[0mmat\u001b[0m\u001b[1;33m[\u001b[0m\u001b[1;34m'Y'\u001b[0m\u001b[1;33m]\u001b[0m\u001b[1;33m\u001b[0m\u001b[1;33m\u001b[0m\u001b[0m\n\u001b[0;32m      4\u001b[0m \u001b[0mRbinary\u001b[0m\u001b[1;33m=\u001b[0m\u001b[0mmat\u001b[0m\u001b[1;33m[\u001b[0m\u001b[1;34m'R'\u001b[0m\u001b[1;33m]\u001b[0m\u001b[1;33m\u001b[0m\u001b[1;33m\u001b[0m\u001b[0m\n\u001b[0;32m      5\u001b[0m \u001b[0mnum_user\u001b[0m\u001b[1;33m=\u001b[0m\u001b[0mR\u001b[0m\u001b[1;33m.\u001b[0m\u001b[0mshape\u001b[0m\u001b[1;33m[\u001b[0m\u001b[1;36m1\u001b[0m\u001b[1;33m]\u001b[0m\u001b[1;33m\u001b[0m\u001b[1;33m\u001b[0m\u001b[0m\n",
      "\u001b[1;32m~\\.conda\\envs\\UcomMachineLearning\\lib\\site-packages\\scipy\\io\\matlab\\mio.py\u001b[0m in \u001b[0;36mloadmat\u001b[1;34m(file_name, mdict, appendmat, **kwargs)\u001b[0m\n\u001b[0;32m    214\u001b[0m     \"\"\"\n\u001b[0;32m    215\u001b[0m     \u001b[0mvariable_names\u001b[0m \u001b[1;33m=\u001b[0m \u001b[0mkwargs\u001b[0m\u001b[1;33m.\u001b[0m\u001b[0mpop\u001b[0m\u001b[1;33m(\u001b[0m\u001b[1;34m'variable_names'\u001b[0m\u001b[1;33m,\u001b[0m \u001b[1;32mNone\u001b[0m\u001b[1;33m)\u001b[0m\u001b[1;33m\u001b[0m\u001b[1;33m\u001b[0m\u001b[0m\n\u001b[1;32m--> 216\u001b[1;33m     \u001b[1;32mwith\u001b[0m \u001b[0m_open_file_context\u001b[0m\u001b[1;33m(\u001b[0m\u001b[0mfile_name\u001b[0m\u001b[1;33m,\u001b[0m \u001b[0mappendmat\u001b[0m\u001b[1;33m)\u001b[0m \u001b[1;32mas\u001b[0m \u001b[0mf\u001b[0m\u001b[1;33m:\u001b[0m\u001b[1;33m\u001b[0m\u001b[1;33m\u001b[0m\u001b[0m\n\u001b[0m\u001b[0;32m    217\u001b[0m         \u001b[0mMR\u001b[0m\u001b[1;33m,\u001b[0m \u001b[0m_\u001b[0m \u001b[1;33m=\u001b[0m \u001b[0mmat_reader_factory\u001b[0m\u001b[1;33m(\u001b[0m\u001b[0mf\u001b[0m\u001b[1;33m,\u001b[0m \u001b[1;33m**\u001b[0m\u001b[0mkwargs\u001b[0m\u001b[1;33m)\u001b[0m\u001b[1;33m\u001b[0m\u001b[1;33m\u001b[0m\u001b[0m\n\u001b[0;32m    218\u001b[0m         \u001b[0mmatfile_dict\u001b[0m \u001b[1;33m=\u001b[0m \u001b[0mMR\u001b[0m\u001b[1;33m.\u001b[0m\u001b[0mget_variables\u001b[0m\u001b[1;33m(\u001b[0m\u001b[0mvariable_names\u001b[0m\u001b[1;33m)\u001b[0m\u001b[1;33m\u001b[0m\u001b[1;33m\u001b[0m\u001b[0m\n",
      "\u001b[1;32m~\\.conda\\envs\\UcomMachineLearning\\lib\\contextlib.py\u001b[0m in \u001b[0;36m__enter__\u001b[1;34m(self)\u001b[0m\n\u001b[0;32m    110\u001b[0m         \u001b[1;32mdel\u001b[0m \u001b[0mself\u001b[0m\u001b[1;33m.\u001b[0m\u001b[0margs\u001b[0m\u001b[1;33m,\u001b[0m \u001b[0mself\u001b[0m\u001b[1;33m.\u001b[0m\u001b[0mkwds\u001b[0m\u001b[1;33m,\u001b[0m \u001b[0mself\u001b[0m\u001b[1;33m.\u001b[0m\u001b[0mfunc\u001b[0m\u001b[1;33m\u001b[0m\u001b[1;33m\u001b[0m\u001b[0m\n\u001b[0;32m    111\u001b[0m         \u001b[1;32mtry\u001b[0m\u001b[1;33m:\u001b[0m\u001b[1;33m\u001b[0m\u001b[1;33m\u001b[0m\u001b[0m\n\u001b[1;32m--> 112\u001b[1;33m             \u001b[1;32mreturn\u001b[0m \u001b[0mnext\u001b[0m\u001b[1;33m(\u001b[0m\u001b[0mself\u001b[0m\u001b[1;33m.\u001b[0m\u001b[0mgen\u001b[0m\u001b[1;33m)\u001b[0m\u001b[1;33m\u001b[0m\u001b[1;33m\u001b[0m\u001b[0m\n\u001b[0m\u001b[0;32m    113\u001b[0m         \u001b[1;32mexcept\u001b[0m \u001b[0mStopIteration\u001b[0m\u001b[1;33m:\u001b[0m\u001b[1;33m\u001b[0m\u001b[1;33m\u001b[0m\u001b[0m\n\u001b[0;32m    114\u001b[0m             \u001b[1;32mraise\u001b[0m \u001b[0mRuntimeError\u001b[0m\u001b[1;33m(\u001b[0m\u001b[1;34m\"generator didn't yield\"\u001b[0m\u001b[1;33m)\u001b[0m \u001b[1;32mfrom\u001b[0m \u001b[1;32mNone\u001b[0m\u001b[1;33m\u001b[0m\u001b[1;33m\u001b[0m\u001b[0m\n",
      "\u001b[1;32m~\\.conda\\envs\\UcomMachineLearning\\lib\\site-packages\\scipy\\io\\matlab\\mio.py\u001b[0m in \u001b[0;36m_open_file_context\u001b[1;34m(file_like, appendmat, mode)\u001b[0m\n\u001b[0;32m     17\u001b[0m \u001b[1;33m@\u001b[0m\u001b[0mcontextmanager\u001b[0m\u001b[1;33m\u001b[0m\u001b[1;33m\u001b[0m\u001b[0m\n\u001b[0;32m     18\u001b[0m \u001b[1;32mdef\u001b[0m \u001b[0m_open_file_context\u001b[0m\u001b[1;33m(\u001b[0m\u001b[0mfile_like\u001b[0m\u001b[1;33m,\u001b[0m \u001b[0mappendmat\u001b[0m\u001b[1;33m,\u001b[0m \u001b[0mmode\u001b[0m\u001b[1;33m=\u001b[0m\u001b[1;34m'rb'\u001b[0m\u001b[1;33m)\u001b[0m\u001b[1;33m:\u001b[0m\u001b[1;33m\u001b[0m\u001b[1;33m\u001b[0m\u001b[0m\n\u001b[1;32m---> 19\u001b[1;33m     \u001b[0mf\u001b[0m\u001b[1;33m,\u001b[0m \u001b[0mopened\u001b[0m \u001b[1;33m=\u001b[0m \u001b[0m_open_file\u001b[0m\u001b[1;33m(\u001b[0m\u001b[0mfile_like\u001b[0m\u001b[1;33m,\u001b[0m \u001b[0mappendmat\u001b[0m\u001b[1;33m,\u001b[0m \u001b[0mmode\u001b[0m\u001b[1;33m)\u001b[0m\u001b[1;33m\u001b[0m\u001b[1;33m\u001b[0m\u001b[0m\n\u001b[0m\u001b[0;32m     20\u001b[0m     \u001b[1;32myield\u001b[0m \u001b[0mf\u001b[0m\u001b[1;33m\u001b[0m\u001b[1;33m\u001b[0m\u001b[0m\n\u001b[0;32m     21\u001b[0m     \u001b[1;32mif\u001b[0m \u001b[0mopened\u001b[0m\u001b[1;33m:\u001b[0m\u001b[1;33m\u001b[0m\u001b[1;33m\u001b[0m\u001b[0m\n",
      "\u001b[1;32m~\\.conda\\envs\\UcomMachineLearning\\lib\\site-packages\\scipy\\io\\matlab\\mio.py\u001b[0m in \u001b[0;36m_open_file\u001b[1;34m(file_like, appendmat, mode)\u001b[0m\n\u001b[0;32m     43\u001b[0m             \u001b[1;32mif\u001b[0m \u001b[0mappendmat\u001b[0m \u001b[1;32mand\u001b[0m \u001b[1;32mnot\u001b[0m \u001b[0mfile_like\u001b[0m\u001b[1;33m.\u001b[0m\u001b[0mendswith\u001b[0m\u001b[1;33m(\u001b[0m\u001b[1;34m'.mat'\u001b[0m\u001b[1;33m)\u001b[0m\u001b[1;33m:\u001b[0m\u001b[1;33m\u001b[0m\u001b[1;33m\u001b[0m\u001b[0m\n\u001b[0;32m     44\u001b[0m                 \u001b[0mfile_like\u001b[0m \u001b[1;33m+=\u001b[0m \u001b[1;34m'.mat'\u001b[0m\u001b[1;33m\u001b[0m\u001b[1;33m\u001b[0m\u001b[0m\n\u001b[1;32m---> 45\u001b[1;33m             \u001b[1;32mreturn\u001b[0m \u001b[0mopen\u001b[0m\u001b[1;33m(\u001b[0m\u001b[0mfile_like\u001b[0m\u001b[1;33m,\u001b[0m \u001b[0mmode\u001b[0m\u001b[1;33m)\u001b[0m\u001b[1;33m,\u001b[0m \u001b[1;32mTrue\u001b[0m\u001b[1;33m\u001b[0m\u001b[1;33m\u001b[0m\u001b[0m\n\u001b[0m\u001b[0;32m     46\u001b[0m         \u001b[1;32melse\u001b[0m\u001b[1;33m:\u001b[0m\u001b[1;33m\u001b[0m\u001b[1;33m\u001b[0m\u001b[0m\n\u001b[0;32m     47\u001b[0m             \u001b[1;32mraise\u001b[0m \u001b[0mIOError\u001b[0m\u001b[1;33m(\u001b[0m\u001b[1;34m'Reader needs file name or open file-like object'\u001b[0m\u001b[1;33m)\u001b[0m\u001b[1;33m\u001b[0m\u001b[1;33m\u001b[0m\u001b[0m\n",
      "\u001b[1;31mFileNotFoundError\u001b[0m: [Errno 2] No such file or directory: 'ex8_movies.mat'"
     ]
    }
   ],
   "source": [
    "mat = scipy.io.loadmat('ex8_movies.mat')\n",
    "movie_names = pd.read_csv('movie_ids.txt',delimiter=';',header=None)[1]\n",
    "R=mat['Y']\n",
    "Rbinary=mat['R']\n",
    "num_user=R.shape[1]\n",
    "num_movie=R.shape[0]\n",
    "overallRating= np.sum(Rbinary)\n",
    "print(\"number of users:\"+str(num_user))\n",
    "print(\"number of movies:\"+str(num_movie))\n",
    "\n",
    "print(\"Cantidad de ratings: \"+str(overallRating))\n",
    "print(\"Solamente \"+str(100*overallRating/(num_user*num_movie))+\"%  de la matrix esta completa\")"
   ]
  },
  {
   "cell_type": "markdown",
   "metadata": {
    "colab_type": "text",
    "id": "_GSPJdP4tvuY"
   },
   "source": [
    "### Visualizacion del sparsity de la matrix "
   ]
  },
  {
   "cell_type": "code",
   "execution_count": null,
   "metadata": {
    "colab": {
     "base_uri": "https://localhost:8080/",
     "height": 565
    },
    "colab_type": "code",
    "executionInfo": {
     "elapsed": 4730,
     "status": "ok",
     "timestamp": 1597522073372,
     "user": {
      "displayName": "Diego Galeano",
      "photoUrl": "https://lh3.googleusercontent.com/a-/AOh14GhQWXSahinhC5AIsR14l3qpJg37OGXBVT0uRAsarw=s64",
      "userId": "05605395687006727326"
     },
     "user_tz": 180
    },
    "id": "3uFXTWussLcX",
    "outputId": "70d6db10-e7c0-4260-92a6-64b5fd8a8834"
   },
   "outputs": [],
   "source": [
    "fig=plt.figure(figsize=(12,8))\n",
    "sns.heatmap(R.T, vmin=0, vmax=5)\n",
    "plt.title('Rating Matrix Heatmap \\n', fontsize=16)\n",
    "plt.xlabel('peliculas')\n",
    "plt.ylabel('usuarios')"
   ]
  },
  {
   "cell_type": "markdown",
   "metadata": {
    "colab_type": "text",
    "id": "um9jPBqNuXib"
   },
   "source": [
    "### Peliculas mas populares in Movielens 100K\n",
    "\n",
    "Las columnas de la matrix R ya se encuentran ordenadas por popularidad de peliculas"
   ]
  },
  {
   "cell_type": "code",
   "execution_count": null,
   "metadata": {
    "colab": {
     "base_uri": "https://localhost:8080/",
     "height": 34
    },
    "colab_type": "code",
    "executionInfo": {
     "elapsed": 1197,
     "status": "ok",
     "timestamp": 1597522197263,
     "user": {
      "displayName": "Diego Galeano",
      "photoUrl": "https://lh3.googleusercontent.com/a-/AOh14GhQWXSahinhC5AIsR14l3qpJg37OGXBVT0uRAsarw=s64",
      "userId": "05605395687006727326"
     },
     "user_tz": 180
    },
    "id": "k7jEVG8MsNWm",
    "outputId": "ee7dab71-f896-46c7-d2e8-0796f2f55c24"
   },
   "outputs": [],
   "source": [
    "print('cantidad de usuarios que vieron cada pelicula', np.sum(Rbinary, axis = 1))"
   ]
  },
  {
   "cell_type": "code",
   "execution_count": null,
   "metadata": {
    "colab": {
     "base_uri": "https://localhost:8080/",
     "height": 204
    },
    "colab_type": "code",
    "executionInfo": {
     "elapsed": 619,
     "status": "ok",
     "timestamp": 1597522229046,
     "user": {
      "displayName": "Diego Galeano",
      "photoUrl": "https://lh3.googleusercontent.com/a-/AOh14GhQWXSahinhC5AIsR14l3qpJg37OGXBVT0uRAsarw=s64",
      "userId": "05605395687006727326"
     },
     "user_tz": 180
    },
    "id": "pvx3oZojsXoM",
    "outputId": "f4e715ca-ce53-4ffd-efa6-edeb2a1d4a59"
   },
   "outputs": [],
   "source": [
    "print(movie_names[0:10])"
   ]
  },
  {
   "cell_type": "markdown",
   "metadata": {
    "colab_type": "text",
    "id": "lgEK9hZFzLzE"
   },
   "source": [
    "**Tarea**: Convierte los datos tabulares de Movielens de la *clase 1* a una matrix $R$ de usuarios y peliculas\n",
    "\n",
    "Ayuda: https://pandas.pydata.org/pandas-docs/stable/reference/api/pandas.pivot_table.html"
   ]
  },
  {
   "cell_type": "code",
   "execution_count": null,
   "metadata": {
    "colab": {},
    "colab_type": "code",
    "id": "PwGoJqfzzWtk"
   },
   "outputs": [],
   "source": []
  },
  {
   "cell_type": "markdown",
   "metadata": {
    "colab_type": "text",
    "id": "4fLfuv2mz6RJ"
   },
   "source": [
    "### **Extra**: Visualizacion con WordClouds (Nubes de palabras)"
   ]
  },
  {
   "cell_type": "code",
   "execution_count": null,
   "metadata": {
    "colab": {
     "base_uri": "https://localhost:8080/",
     "height": 68
    },
    "colab_type": "code",
    "executionInfo": {
     "elapsed": 4520,
     "status": "ok",
     "timestamp": 1597523374699,
     "user": {
      "displayName": "Diego Galeano",
      "photoUrl": "https://lh3.googleusercontent.com/a-/AOh14GhQWXSahinhC5AIsR14l3qpJg37OGXBVT0uRAsarw=s64",
      "userId": "05605395687006727326"
     },
     "user_tz": 180
    },
    "id": "P_rzsMio0Axr",
    "outputId": "b6f946eb-791d-48ca-c82c-24ca194d8eba"
   },
   "outputs": [],
   "source": [
    "!pip install wordcloud"
   ]
  },
  {
   "cell_type": "code",
   "execution_count": null,
   "metadata": {
    "colab": {},
    "colab_type": "code",
    "executionInfo": {
     "elapsed": 649,
     "status": "ok",
     "timestamp": 1597523591239,
     "user": {
      "displayName": "Diego Galeano",
      "photoUrl": "https://lh3.googleusercontent.com/a-/AOh14GhQWXSahinhC5AIsR14l3qpJg37OGXBVT0uRAsarw=s64",
      "userId": "05605395687006727326"
     },
     "user_tz": 180
    },
    "id": "OJVCz_Nf03Wl"
   },
   "outputs": [],
   "source": [
    "from wordcloud import WordCloud, STOPWORDS, ImageColorGenerator"
   ]
  },
  {
   "cell_type": "code",
   "execution_count": null,
   "metadata": {
    "colab": {},
    "colab_type": "code",
    "executionInfo": {
     "elapsed": 607,
     "status": "ok",
     "timestamp": 1597526881048,
     "user": {
      "displayName": "Diego Galeano",
      "photoUrl": "https://lh3.googleusercontent.com/a-/AOh14GhQWXSahinhC5AIsR14l3qpJg37OGXBVT0uRAsarw=s64",
      "userId": "05605395687006727326"
     },
     "user_tz": 180
    },
    "id": "fwxDtS7PBDwX"
   },
   "outputs": [],
   "source": [
    "C = np.sum(Rbinary, axis = 1)\n",
    "text = ''\n",
    "for i, movie in enumerate(movie_names):\n",
    "  text += movie * C[i]"
   ]
  },
  {
   "cell_type": "code",
   "execution_count": null,
   "metadata": {
    "colab": {
     "base_uri": "https://localhost:8080/",
     "height": 366
    },
    "colab_type": "code",
    "executionInfo": {
     "elapsed": 2141,
     "status": "ok",
     "timestamp": 1597526901126,
     "user": {
      "displayName": "Diego Galeano",
      "photoUrl": "https://lh3.googleusercontent.com/a-/AOh14GhQWXSahinhC5AIsR14l3qpJg37OGXBVT0uRAsarw=s64",
      "userId": "05605395687006727326"
     },
     "user_tz": 180
    },
    "id": "3ef0Q2SQ0CCC",
    "outputId": "f014e265-1d85-4d67-f55f-a469d43f5086"
   },
   "outputs": [],
   "source": [
    "fig=plt.figure(figsize=(12,8))\n",
    "wordcloud = WordCloud().generate(text)\n",
    "plt.imshow(wordcloud, interpolation='bilinear')\n",
    "plt.axis(\"off\")\n",
    "plt.show()"
   ]
  }
 ],
 "metadata": {
  "colab": {
   "authorship_tag": "ABX9TyPfwLwQ39beymok7PMzxiHh",
   "name": "clase 2.ipynb",
   "provenance": []
  },
  "kernelspec": {
   "display_name": "Python 3",
   "language": "python",
   "name": "python3"
  },
  "language_info": {
   "codemirror_mode": {
    "name": "ipython",
    "version": 3
   },
   "file_extension": ".py",
   "mimetype": "text/x-python",
   "name": "python",
   "nbconvert_exporter": "python",
   "pygments_lexer": "ipython3",
   "version": "3.7.7"
  }
 },
 "nbformat": 4,
 "nbformat_minor": 1
}
