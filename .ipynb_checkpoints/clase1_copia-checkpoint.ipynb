{
 "cells": [
  {
   "cell_type": "markdown",
   "metadata": {
    "colab_type": "text",
    "id": "UvscgNGEMT99"
   },
   "source": [
    "Las siguientes librerias son necesarias para correr el codigo en este notebook"
   ]
  },
  {
   "cell_type": "code",
   "execution_count": 1,
   "metadata": {
    "colab": {
     "base_uri": "https://localhost:8080/",
     "height": 1000
    },
    "colab_type": "code",
    "executionInfo": {
     "elapsed": 83670,
     "status": "ok",
     "timestamp": 1599085531117,
     "user": {
      "displayName": "Diego Galeano",
      "photoUrl": "https://lh3.googleusercontent.com/a-/AOh14GhQWXSahinhC5AIsR14l3qpJg37OGXBVT0uRAsarw=s64",
      "userId": "05605395687006727326"
     },
     "user_tz": 180
    },
    "id": "-GkLV8kUMbrO",
    "outputId": "1f64a35c-a5c2-465d-9b3b-e3c7643d9dcb"
   },
   "outputs": [
    {
     "name": "stdout",
     "output_type": "stream",
     "text": [
      "Collecting d2l==0.14.3\n",
      "\u001b[?25l  Downloading https://files.pythonhosted.org/packages/ba/c1/c39e1c7571effc1738bdd7c846b4a9a8ad7c58f672f05ca4cbd8367eda57/d2l-0.14.3-py3-none-any.whl (53kB)\n",
      "\r",
      "\u001b[K     |██████▏                         | 10kB 18.1MB/s eta 0:00:01\r",
      "\u001b[K     |████████████▍                   | 20kB 1.8MB/s eta 0:00:01\r",
      "\u001b[K     |██████████████████▌             | 30kB 2.3MB/s eta 0:00:01\r",
      "\u001b[K     |████████████████████████▊       | 40kB 2.6MB/s eta 0:00:01\r",
      "\u001b[K     |██████████████████████████████▉ | 51kB 2.1MB/s eta 0:00:01\r",
      "\u001b[K     |████████████████████████████████| 61kB 1.9MB/s \n",
      "\u001b[?25hRequirement already satisfied: jupyter in /usr/local/lib/python3.6/dist-packages (from d2l==0.14.3) (1.0.0)\n",
      "Requirement already satisfied: numpy in /usr/local/lib/python3.6/dist-packages (from d2l==0.14.3) (1.18.5)\n",
      "Requirement already satisfied: pandas in /usr/local/lib/python3.6/dist-packages (from d2l==0.14.3) (1.0.5)\n",
      "Requirement already satisfied: matplotlib in /usr/local/lib/python3.6/dist-packages (from d2l==0.14.3) (3.2.2)\n",
      "Requirement already satisfied: jupyter-console in /usr/local/lib/python3.6/dist-packages (from jupyter->d2l==0.14.3) (5.2.0)\n",
      "Requirement already satisfied: qtconsole in /usr/local/lib/python3.6/dist-packages (from jupyter->d2l==0.14.3) (4.7.6)\n",
      "Requirement already satisfied: ipywidgets in /usr/local/lib/python3.6/dist-packages (from jupyter->d2l==0.14.3) (7.5.1)\n",
      "Requirement already satisfied: nbconvert in /usr/local/lib/python3.6/dist-packages (from jupyter->d2l==0.14.3) (5.6.1)\n",
      "Requirement already satisfied: ipykernel in /usr/local/lib/python3.6/dist-packages (from jupyter->d2l==0.14.3) (4.10.1)\n",
      "Requirement already satisfied: notebook in /usr/local/lib/python3.6/dist-packages (from jupyter->d2l==0.14.3) (5.3.1)\n",
      "Requirement already satisfied: pytz>=2017.2 in /usr/local/lib/python3.6/dist-packages (from pandas->d2l==0.14.3) (2018.9)\n",
      "Requirement already satisfied: python-dateutil>=2.6.1 in /usr/local/lib/python3.6/dist-packages (from pandas->d2l==0.14.3) (2.8.1)\n",
      "Requirement already satisfied: kiwisolver>=1.0.1 in /usr/local/lib/python3.6/dist-packages (from matplotlib->d2l==0.14.3) (1.2.0)\n",
      "Requirement already satisfied: pyparsing!=2.0.4,!=2.1.2,!=2.1.6,>=2.0.1 in /usr/local/lib/python3.6/dist-packages (from matplotlib->d2l==0.14.3) (2.4.7)\n",
      "Requirement already satisfied: cycler>=0.10 in /usr/local/lib/python3.6/dist-packages (from matplotlib->d2l==0.14.3) (0.10.0)\n",
      "Requirement already satisfied: jupyter-client in /usr/local/lib/python3.6/dist-packages (from jupyter-console->jupyter->d2l==0.14.3) (5.3.5)\n",
      "Requirement already satisfied: pygments in /usr/local/lib/python3.6/dist-packages (from jupyter-console->jupyter->d2l==0.14.3) (2.1.3)\n",
      "Requirement already satisfied: ipython in /usr/local/lib/python3.6/dist-packages (from jupyter-console->jupyter->d2l==0.14.3) (5.5.0)\n",
      "Requirement already satisfied: prompt-toolkit<2.0.0,>=1.0.0 in /usr/local/lib/python3.6/dist-packages (from jupyter-console->jupyter->d2l==0.14.3) (1.0.18)\n",
      "Requirement already satisfied: ipython-genutils in /usr/local/lib/python3.6/dist-packages (from qtconsole->jupyter->d2l==0.14.3) (0.2.0)\n",
      "Requirement already satisfied: jupyter-core in /usr/local/lib/python3.6/dist-packages (from qtconsole->jupyter->d2l==0.14.3) (4.6.3)\n",
      "Requirement already satisfied: traitlets in /usr/local/lib/python3.6/dist-packages (from qtconsole->jupyter->d2l==0.14.3) (4.3.3)\n",
      "Requirement already satisfied: qtpy in /usr/local/lib/python3.6/dist-packages (from qtconsole->jupyter->d2l==0.14.3) (1.9.0)\n",
      "Requirement already satisfied: pyzmq>=17.1 in /usr/local/lib/python3.6/dist-packages (from qtconsole->jupyter->d2l==0.14.3) (19.0.2)\n",
      "Requirement already satisfied: nbformat>=4.2.0 in /usr/local/lib/python3.6/dist-packages (from ipywidgets->jupyter->d2l==0.14.3) (5.0.7)\n",
      "Requirement already satisfied: widgetsnbextension~=3.5.0 in /usr/local/lib/python3.6/dist-packages (from ipywidgets->jupyter->d2l==0.14.3) (3.5.1)\n",
      "Requirement already satisfied: entrypoints>=0.2.2 in /usr/local/lib/python3.6/dist-packages (from nbconvert->jupyter->d2l==0.14.3) (0.3)\n",
      "Requirement already satisfied: bleach in /usr/local/lib/python3.6/dist-packages (from nbconvert->jupyter->d2l==0.14.3) (3.1.5)\n",
      "Requirement already satisfied: defusedxml in /usr/local/lib/python3.6/dist-packages (from nbconvert->jupyter->d2l==0.14.3) (0.6.0)\n",
      "Requirement already satisfied: testpath in /usr/local/lib/python3.6/dist-packages (from nbconvert->jupyter->d2l==0.14.3) (0.4.4)\n",
      "Requirement already satisfied: pandocfilters>=1.4.1 in /usr/local/lib/python3.6/dist-packages (from nbconvert->jupyter->d2l==0.14.3) (1.4.2)\n",
      "Requirement already satisfied: mistune<2,>=0.8.1 in /usr/local/lib/python3.6/dist-packages (from nbconvert->jupyter->d2l==0.14.3) (0.8.4)\n",
      "Requirement already satisfied: jinja2>=2.4 in /usr/local/lib/python3.6/dist-packages (from nbconvert->jupyter->d2l==0.14.3) (2.11.2)\n",
      "Requirement already satisfied: tornado>=4.0 in /usr/local/lib/python3.6/dist-packages (from ipykernel->jupyter->d2l==0.14.3) (5.1.1)\n",
      "Requirement already satisfied: terminado>=0.8.1 in /usr/local/lib/python3.6/dist-packages (from notebook->jupyter->d2l==0.14.3) (0.8.3)\n",
      "Requirement already satisfied: Send2Trash in /usr/local/lib/python3.6/dist-packages (from notebook->jupyter->d2l==0.14.3) (1.5.0)\n",
      "Requirement already satisfied: six>=1.5 in /usr/local/lib/python3.6/dist-packages (from python-dateutil>=2.6.1->pandas->d2l==0.14.3) (1.15.0)\n",
      "Requirement already satisfied: simplegeneric>0.8 in /usr/local/lib/python3.6/dist-packages (from ipython->jupyter-console->jupyter->d2l==0.14.3) (0.8.1)\n",
      "Requirement already satisfied: pexpect; sys_platform != \"win32\" in /usr/local/lib/python3.6/dist-packages (from ipython->jupyter-console->jupyter->d2l==0.14.3) (4.8.0)\n",
      "Requirement already satisfied: pickleshare in /usr/local/lib/python3.6/dist-packages (from ipython->jupyter-console->jupyter->d2l==0.14.3) (0.7.5)\n",
      "Requirement already satisfied: decorator in /usr/local/lib/python3.6/dist-packages (from ipython->jupyter-console->jupyter->d2l==0.14.3) (4.4.2)\n",
      "Requirement already satisfied: setuptools>=18.5 in /usr/local/lib/python3.6/dist-packages (from ipython->jupyter-console->jupyter->d2l==0.14.3) (49.6.0)\n",
      "Requirement already satisfied: wcwidth in /usr/local/lib/python3.6/dist-packages (from prompt-toolkit<2.0.0,>=1.0.0->jupyter-console->jupyter->d2l==0.14.3) (0.2.5)\n",
      "Requirement already satisfied: jsonschema!=2.5.0,>=2.4 in /usr/local/lib/python3.6/dist-packages (from nbformat>=4.2.0->ipywidgets->jupyter->d2l==0.14.3) (2.6.0)\n",
      "Requirement already satisfied: webencodings in /usr/local/lib/python3.6/dist-packages (from bleach->nbconvert->jupyter->d2l==0.14.3) (0.5.1)\n",
      "Requirement already satisfied: packaging in /usr/local/lib/python3.6/dist-packages (from bleach->nbconvert->jupyter->d2l==0.14.3) (20.4)\n",
      "Requirement already satisfied: MarkupSafe>=0.23 in /usr/local/lib/python3.6/dist-packages (from jinja2>=2.4->nbconvert->jupyter->d2l==0.14.3) (1.1.1)\n",
      "Requirement already satisfied: ptyprocess; os_name != \"nt\" in /usr/local/lib/python3.6/dist-packages (from terminado>=0.8.1->notebook->jupyter->d2l==0.14.3) (0.6.0)\n",
      "Installing collected packages: d2l\n",
      "Successfully installed d2l-0.14.3\n",
      "Collecting mxnet-cu101mkl\n",
      "\u001b[?25l  Downloading https://files.pythonhosted.org/packages/45/3f/e33e3f92110fa5caba5e9eb052008208a33c1d5faccc7fe5312532e9aa42/mxnet_cu101mkl-1.6.0.post0-py2.py3-none-manylinux1_x86_64.whl (712.3MB)\n",
      "\u001b[K     |████████████████████████████████| 712.3MB 22kB/s \n",
      "\u001b[?25hRequirement already satisfied, skipping upgrade: requests<3,>=2.20.0 in /usr/local/lib/python3.6/dist-packages (from mxnet-cu101mkl) (2.23.0)\n",
      "Collecting graphviz<0.9.0,>=0.8.1\n",
      "  Downloading https://files.pythonhosted.org/packages/53/39/4ab213673844e0c004bed8a0781a0721a3f6bb23eb8854ee75c236428892/graphviz-0.8.4-py2.py3-none-any.whl\n",
      "Requirement already satisfied, skipping upgrade: numpy<2.0.0,>1.16.0 in /usr/local/lib/python3.6/dist-packages (from mxnet-cu101mkl) (1.18.5)\n",
      "Requirement already satisfied, skipping upgrade: chardet<4,>=3.0.2 in /usr/local/lib/python3.6/dist-packages (from requests<3,>=2.20.0->mxnet-cu101mkl) (3.0.4)\n",
      "Requirement already satisfied, skipping upgrade: certifi>=2017.4.17 in /usr/local/lib/python3.6/dist-packages (from requests<3,>=2.20.0->mxnet-cu101mkl) (2020.6.20)\n",
      "Requirement already satisfied, skipping upgrade: urllib3!=1.25.0,!=1.25.1,<1.26,>=1.21.1 in /usr/local/lib/python3.6/dist-packages (from requests<3,>=2.20.0->mxnet-cu101mkl) (1.24.3)\n",
      "Requirement already satisfied, skipping upgrade: idna<3,>=2.5 in /usr/local/lib/python3.6/dist-packages (from requests<3,>=2.20.0->mxnet-cu101mkl) (2.10)\n",
      "Installing collected packages: graphviz, mxnet-cu101mkl\n",
      "  Found existing installation: graphviz 0.10.1\n",
      "    Uninstalling graphviz-0.10.1:\n",
      "      Successfully uninstalled graphviz-0.10.1\n",
      "Successfully installed graphviz-0.8.4 mxnet-cu101mkl-1.6.0.post0\n"
     ]
    }
   ],
   "source": [
    "!pip install d2l==0.14.3\n",
    "!pip install -U mxnet-cu101mkl  # updating mxnet to at least v1.6"
   ]
  },
  {
   "cell_type": "markdown",
   "metadata": {
    "colab_type": "text",
    "id": "yHnYjo2TIq-Y"
   },
   "source": [
    "# **Sistemas de Recomendacion** \n",
    "\n",
    "## Clase 1: Introduccion al Movielens dataset\n",
    "\n",
    "Diego Galeano, Ph.D.\n",
    "\n",
    "Parcialmente basada en la version en ingles: https://colab.research.google.com/github/d2l-ai/d2l-en-colab/blob/master/chapter_recommender-systems/movielens.ipynb\n",
    "\n"
   ]
  },
  {
   "cell_type": "markdown",
   "metadata": {
    "colab_type": "text",
    "id": "HTP3vHQYJWeg"
   },
   "source": [
    "### El MovieLens dataset\n",
    "\n",
    "Hay una serie de conjuntos de datos disponibles para la investigación de sistemas de recomendaciones. Entre ellos, el conjunto de datos MovieLens es probablemente uno de los más populares. MovieLens es un sistema de recomendación de películas no comercial basado en la web. Fue creado en 1997 y dirigido por GroupLens, un laboratorio de investigación de la Universidad de Minnesota, con el fin de recopilar datos de clasificación de películas con fines de investigación. Los datos de MovieLens han sido fundamentales para varios estudios de investigación, incluida la recomendación personalizada y la psicología social.\n",
    "\n",
    "####  Obtener los datos\n",
    "\n",
    "El dataset de Movielens se encuentra hosteado en la website de [GroupLens](https://grouplens.org/datasets/movielens/). Varias versiones del dataset estan disponibles. Nosotros utilizaremos el Movielens 100K dataset :cite:`Herlocker.Konstan.Borchers.ea.1999`. Este dataset contiene $100,000$ ratings, con \"calificaciones\" de 1 a 5 estrellas, de 943 usuarios en 1682 peliculas. Este dataset ha sido limpiado de tal forma que cada usuario ha calificado al menos 20 peliculas (NO COLD-START PROBLEM). Algunos datos demograficos como edad, género de los usuarios y peliculas tambien estan disponibles. Podemos decargar los datos de [ml-100k.zip](http://files.grouplens.org/datasets/movielens/ml-100k.zip) y extraer el archivo `u.data`, el cual contiene los $100,000$ ratings en formato csv. Hay muchos otros archivos en la carpeta, detalles aqui  [README](http://files.grouplens.org/datasets/movielens/ml-100k-README.txt).\n",
    "\n",
    "Primeramente, importamos las librerias que usaremos en esta seccion.\n"
   ]
  },
  {
   "cell_type": "code",
   "execution_count": 8,
   "metadata": {
    "colab": {},
    "colab_type": "code",
    "executionInfo": {
     "elapsed": 772,
     "status": "ok",
     "timestamp": 1599088040179,
     "user": {
      "displayName": "Diego Galeano",
      "photoUrl": "https://lh3.googleusercontent.com/a-/AOh14GhQWXSahinhC5AIsR14l3qpJg37OGXBVT0uRAsarw=s64",
      "userId": "05605395687006727326"
     },
     "user_tz": 180
    },
    "id": "HZVL_OGLJaXv"
   },
   "outputs": [],
   "source": [
    "from d2l import mxnet as d2l\n",
    "from mxnet import gluon, np\n",
    "import os\n",
    "import pandas as pd\n",
    "import numpy as np\n",
    "import seaborn as sns\n",
    "import matplotlib.pyplot as plt"
   ]
  },
  {
   "cell_type": "markdown",
   "metadata": {
    "colab_type": "text",
    "id": "7gbxzvXNMu13"
   },
   "source": [
    "Luego, descargamos el conjunto de datos MovieLens 100k y cargamos las interacciones como `DataFrame`."
   ]
  },
  {
   "cell_type": "code",
   "execution_count": 10,
   "metadata": {
    "colab": {},
    "colab_type": "code",
    "executionInfo": {
     "elapsed": 654,
     "status": "ok",
     "timestamp": 1599088158532,
     "user": {
      "displayName": "Diego Galeano",
      "photoUrl": "https://lh3.googleusercontent.com/a-/AOh14GhQWXSahinhC5AIsR14l3qpJg37OGXBVT0uRAsarw=s64",
      "userId": "05605395687006727326"
     },
     "user_tz": 180
    },
    "id": "Kb5XvkQQL0R3"
   },
   "outputs": [],
   "source": [
    "#@save\n",
    "d2l.DATA_HUB['ml-100k'] = (\n",
    "    'http://files.grouplens.org/datasets/movielens/ml-100k.zip',\n",
    "    'cd4dcac4241c8a4ad7badc7ca635da8a69dddb83')\n",
    "\n",
    "#@save\n",
    "def read_data_ml100k():\n",
    "    data_dir = d2l.download_extract('ml-100k')\n",
    "    names = ['user_id', 'item_id', 'rating', 'timestamp']\n",
    "    data = pd.read_csv(os.path.join(data_dir, 'u.data'), '\\t', names=names,\n",
    "                       engine='python')\n",
    "    num_users = data.user_id.unique().shape[0]\n",
    "    num_items = data.item_id.unique().shape[0]\n",
    "    return data, num_users, num_items"
   ]
  },
  {
   "cell_type": "markdown",
   "metadata": {
    "colab_type": "text",
    "id": "zEghbzH0M8EB"
   },
   "source": [
    "## Estadísticas de Movielens 100K\n",
    "\n",
    "Carguemos los datos e inspeccionemos los primeros cinco registros manualmente. Es una forma eficaz de conocer la estructura de los datos y verificar que se hayan cargado correctamente."
   ]
  },
  {
   "cell_type": "code",
   "execution_count": 19,
   "metadata": {
    "colab": {
     "base_uri": "https://localhost:8080/",
     "height": 170
    },
    "colab_type": "code",
    "executionInfo": {
     "elapsed": 1389,
     "status": "ok",
     "timestamp": 1599094593702,
     "user": {
      "displayName": "Diego Galeano",
      "photoUrl": "https://lh3.googleusercontent.com/a-/AOh14GhQWXSahinhC5AIsR14l3qpJg37OGXBVT0uRAsarw=s64",
      "userId": "05605395687006727326"
     },
     "user_tz": 180
    },
    "id": "rLg7811EM03X",
    "outputId": "3d7001cc-5e8f-4337-b21d-af58c05c96af"
   },
   "outputs": [
    {
     "name": "stdout",
     "output_type": "stream",
     "text": [
      "number of users: 943, number of items: 1682\n",
      "matrix sparsity: 0.936953\n",
      "matrix density: 0.063047\n",
      "   user_id  item_id  rating  timestamp\n",
      "0      196      242       3  881250949\n",
      "1      186      302       3  891717742\n",
      "2       22      377       1  878887116\n",
      "3      244       51       2  880606923\n",
      "4      166      346       1  886397596\n"
     ]
    }
   ],
   "source": [
    "data, num_users, num_items = read_data_ml100k()\n",
    "density = len(data) / (num_users * num_items)\n",
    "sparsity = 1 - density\n",
    "\n",
    "print(f'number of users: {num_users}, number of items: {num_items}')\n",
    "print(f'matrix sparsity: {sparsity:f}')\n",
    "print(f'matrix density: {density:f}')\n",
    "print(data.head(5))"
   ]
  },
  {
   "cell_type": "markdown",
   "metadata": {
    "colab_type": "text",
    "id": "AtfinQVFRUc_"
   },
   "source": [
    "Podemos ver que cada línea consta de cuatro columnas, que incluyen \"ID de usuario\" 1-943, \"ID de artículo\" 1-1682, \"Rating\" 1-5 y \"Marca de tiempo\". Podemos construir una matriz de interacción de tamaño $n \\times m $, donde $n$ y $m$ son el número de usuarios y el número de elementos, respectivamente. Este conjunto de datos solo registra las calificaciones existentes, por lo que también podemos llamarlo matriz de calificación (*rating matrix*) y usaremos matriz de interacción y matriz de calificación indistintamente en caso de que los valores de esta matriz representen calificaciones exactas. La mayoría de los valores de la matriz de clasificación se desconocen ya que los usuarios no han calificado la mayoría de las películas. También mostramos la escasez (*sparsity*) de este conjunto de datos. La escasez se define como \"1 - número de entradas distintas de cero / (número de usuarios * número de elementos)\". Claramente, la matriz de interacción es extremadamente escasa (es decir, escasez o *sparsity* = 93,695%). Los conjuntos de datos del mundo real pueden sufrir un grado mayor de escasez y han sido un desafío en la construcción de sistemas de recomendación. Una solución viable es utilizar información lateral adicional, como las características del usuario / artículo, para aliviar la escasez.\n",
    "\n",
    "Luego trazamos la distribución del recuento de diferentes calificaciones. Como se esperaba, parece ser una distribución normal, con la mayoría de las calificaciones centradas en 3-4.\n"
   ]
  },
  {
   "cell_type": "code",
   "execution_count": 5,
   "metadata": {
    "colab": {
     "base_uri": "https://localhost:8080/",
     "height": 279
    },
    "colab_type": "code",
    "executionInfo": {
     "elapsed": 876,
     "status": "ok",
     "timestamp": 1599085551229,
     "user": {
      "displayName": "Diego Galeano",
      "photoUrl": "https://lh3.googleusercontent.com/a-/AOh14GhQWXSahinhC5AIsR14l3qpJg37OGXBVT0uRAsarw=s64",
      "userId": "05605395687006727326"
     },
     "user_tz": 180
    },
    "id": "4v8y6wekM6hE",
    "outputId": "dbe4315d-f4c4-4cfc-ff8e-872fb0af75c2"
   },
   "outputs": [
    {
     "data": {
      "image/png": "[encoded data removed]",
      "text/plain": [
       "<Figure size 432x288 with 1 Axes>"
      ]
     },
     "metadata": {
      "needs_background": "light",
      "tags": []
     },
     "output_type": "display_data"
    }
   ],
   "source": [
    "sns.distplot(data['rating'], kde = False)\n",
    "plt.ylabel('Cantidad')\n",
    "plt.xlabel('rating')\n",
    "plt.grid()"
   ]
  },
  {
   "cell_type": "code",
   "execution_count": 20,
   "metadata": {
    "colab": {
     "base_uri": "https://localhost:8080/",
     "height": 419
    },
    "colab_type": "code",
    "executionInfo": {
     "elapsed": 646,
     "status": "ok",
     "timestamp": 1599094604525,
     "user": {
      "displayName": "Diego Galeano",
      "photoUrl": "https://lh3.googleusercontent.com/a-/AOh14GhQWXSahinhC5AIsR14l3qpJg37OGXBVT0uRAsarw=s64",
      "userId": "05605395687006727326"
     },
     "user_tz": 180
    },
    "id": "Wrv1zOVC7fmR",
    "outputId": "c0418237-a703-4d15-d886-cba7cf07ef09"
   },
   "outputs": [
    {
     "data": {
      "text/html": [
       "<div>\n",
       "<style scoped>\n",
       "    .dataframe tbody tr th:only-of-type {\n",
       "        vertical-align: middle;\n",
       "    }\n",
       "\n",
       "    .dataframe tbody tr th {\n",
       "        vertical-align: top;\n",
       "    }\n",
       "\n",
       "    .dataframe thead th {\n",
       "        text-align: right;\n",
       "    }\n",
       "</style>\n",
       "<table border=\"1\" class=\"dataframe\">\n",
       "  <thead>\n",
       "    <tr style=\"text-align: right;\">\n",
       "      <th></th>\n",
       "      <th>user_id</th>\n",
       "      <th>item_id</th>\n",
       "      <th>rating</th>\n",
       "      <th>timestamp</th>\n",
       "    </tr>\n",
       "  </thead>\n",
       "  <tbody>\n",
       "    <tr>\n",
       "      <th>0</th>\n",
       "      <td>196</td>\n",
       "      <td>242</td>\n",
       "      <td>3</td>\n",
       "      <td>881250949</td>\n",
       "    </tr>\n",
       "    <tr>\n",
       "      <th>1</th>\n",
       "      <td>186</td>\n",
       "      <td>302</td>\n",
       "      <td>3</td>\n",
       "      <td>891717742</td>\n",
       "    </tr>\n",
       "    <tr>\n",
       "      <th>2</th>\n",
       "      <td>22</td>\n",
       "      <td>377</td>\n",
       "      <td>1</td>\n",
       "      <td>878887116</td>\n",
       "    </tr>\n",
       "    <tr>\n",
       "      <th>3</th>\n",
       "      <td>244</td>\n",
       "      <td>51</td>\n",
       "      <td>2</td>\n",
       "      <td>880606923</td>\n",
       "    </tr>\n",
       "    <tr>\n",
       "      <th>4</th>\n",
       "      <td>166</td>\n",
       "      <td>346</td>\n",
       "      <td>1</td>\n",
       "      <td>886397596</td>\n",
       "    </tr>\n",
       "    <tr>\n",
       "      <th>...</th>\n",
       "      <td>...</td>\n",
       "      <td>...</td>\n",
       "      <td>...</td>\n",
       "      <td>...</td>\n",
       "    </tr>\n",
       "    <tr>\n",
       "      <th>99995</th>\n",
       "      <td>880</td>\n",
       "      <td>476</td>\n",
       "      <td>3</td>\n",
       "      <td>880175444</td>\n",
       "    </tr>\n",
       "    <tr>\n",
       "      <th>99996</th>\n",
       "      <td>716</td>\n",
       "      <td>204</td>\n",
       "      <td>5</td>\n",
       "      <td>879795543</td>\n",
       "    </tr>\n",
       "    <tr>\n",
       "      <th>99997</th>\n",
       "      <td>276</td>\n",
       "      <td>1090</td>\n",
       "      <td>1</td>\n",
       "      <td>874795795</td>\n",
       "    </tr>\n",
       "    <tr>\n",
       "      <th>99998</th>\n",
       "      <td>13</td>\n",
       "      <td>225</td>\n",
       "      <td>2</td>\n",
       "      <td>882399156</td>\n",
       "    </tr>\n",
       "    <tr>\n",
       "      <th>99999</th>\n",
       "      <td>12</td>\n",
       "      <td>203</td>\n",
       "      <td>3</td>\n",
       "      <td>879959583</td>\n",
       "    </tr>\n",
       "  </tbody>\n",
       "</table>\n",
       "<p>100000 rows × 4 columns</p>\n",
       "</div>"
      ],
      "text/plain": [
       "       user_id  item_id  rating  timestamp\n",
       "0          196      242       3  881250949\n",
       "1          186      302       3  891717742\n",
       "2           22      377       1  878887116\n",
       "3          244       51       2  880606923\n",
       "4          166      346       1  886397596\n",
       "...        ...      ...     ...        ...\n",
       "99995      880      476       3  880175444\n",
       "99996      716      204       5  879795543\n",
       "99997      276     1090       1  874795795\n",
       "99998       13      225       2  882399156\n",
       "99999       12      203       3  879959583\n",
       "\n",
       "[100000 rows x 4 columns]"
      ]
     },
     "execution_count": 20,
     "metadata": {
      "tags": []
     },
     "output_type": "execute_result"
    }
   ],
   "source": [
    "data"
   ]
  },
  {
   "cell_type": "markdown",
   "metadata": {
    "colab_type": "text",
    "id": "YuK4GO9uT6sa"
   },
   "source": [
    "**Ejercicio 1**: Calcular el rating promedio (y la desviacion estandar) en Movielens 100K y dar una interpretacion de lo que el valor significa."
   ]
  },
  {
   "cell_type": "code",
   "execution_count": 12,
   "metadata": {
    "colab": {
     "base_uri": "https://localhost:8080/",
     "height": 51
    },
    "colab_type": "code",
    "executionInfo": {
     "elapsed": 1151,
     "status": "ok",
     "timestamp": 1599089189602,
     "user": {
      "displayName": "Diego Galeano",
      "photoUrl": "https://lh3.googleusercontent.com/a-/AOh14GhQWXSahinhC5AIsR14l3qpJg37OGXBVT0uRAsarw=s64",
      "userId": "05605395687006727326"
     },
     "user_tz": 180
    },
    "id": "c-QOvgYsT1hR",
    "outputId": "d16cf0bd-135b-4570-ff14-c2ccad5734dd"
   },
   "outputs": [
    {
     "name": "stdout",
     "output_type": "stream",
     "text": [
      "Rating promedio 3.52986\n",
      "Rating std 1.125667970762062\n"
     ]
    }
   ],
   "source": [
    "rating_promedio = np.mean(data['rating']) # promedio usando np.mean(.)\n",
    "rating_std = np.std(data['rating']) # standard deviation usando np.std(.)\n",
    "\n",
    "print('Rating promedio', rating_promedio)\n",
    "print('Rating std', rating_std)"
   ]
  },
  {
   "cell_type": "markdown",
   "metadata": {
    "colab_type": "text",
    "id": "0sRrJWZAU0q_"
   },
   "source": [
    "**Ejercicio 2**: Encontrar al usuario que have visto mas peliculas en Movielens 100K. Cuantas peliculas ha visto? Imprimir 10 peliculas vistas por dicho usuario\n",
    "."
   ]
  },
  {
   "cell_type": "code",
   "execution_count": 31,
   "metadata": {
    "colab": {
     "base_uri": "https://localhost:8080/",
     "height": 374
    },
    "colab_type": "code",
    "executionInfo": {
     "elapsed": 565,
     "status": "ok",
     "timestamp": 1599095008918,
     "user": {
      "displayName": "Diego Galeano",
      "photoUrl": "https://lh3.googleusercontent.com/a-/AOh14GhQWXSahinhC5AIsR14l3qpJg37OGXBVT0uRAsarw=s64",
      "userId": "05605395687006727326"
     },
     "user_tz": 180
    },
    "id": "ABfpB6mjUPhJ",
    "outputId": "9f441b73-0145-40e8-d121-921ef3115894"
   },
   "outputs": [
    {
     "name": "stdout",
     "output_type": "stream",
     "text": [
      "Usuario que ha visto mas peliculas\n",
      " user_id              405\n",
      "item_id             1564\n",
      "rating                 1\n",
      "timestamp      885546288\n",
      "user_counts          737\n",
      "item_counts            1\n",
      "Name: 81224, dtype: int64\n",
      "-----------------------------------------\n",
      "Top-10 peliculas vistas\n",
      "        user_id  item_id  rating  timestamp  user_counts  item_counts\n",
      "81224      405     1564       1  885546288          737            1\n",
      "12449      405      171       1  885549544          737           65\n",
      "48059      405      317       4  885544911          737          102\n",
      "12430      405     1582       1  885548670          737            1\n",
      "57089      405      708       1  885546487          737          101\n",
      "27282      405      211       1  885547177          737          206\n",
      "27284      405     1307       1  885546529          737            2\n",
      "27316      405      788       1  885548275          737            3\n",
      "12383      405      592       1  885548670          737            9\n",
      "71258      405      392       5  885545487          737           68\n"
     ]
    }
   ],
   "source": [
    "#cantidad de peliculas vista por usuario\n",
    "count_users = data.user_id.value_counts()\n",
    "\n",
    "# podemos agregar una nueva columna en data con esta info\n",
    "data['user_counts'] = data.user_id.map(count_users)\n",
    "\n",
    "data_orderedbyusers = data.sort_values('user_counts', ascending=False)\n",
    "\n",
    "print('Usuario que ha visto mas peliculas\\n', data_orderedbyusers.iloc[0]) \n",
    "\n",
    "# imprimir  10 peliculas vistas por dicho usuario\n",
    "print('-----------------------------------------')\n",
    "print('10 peliculas vistas por el usuario con mas peliculas vistas\\n', data_orderedbyusers.iloc[0:10]) "
   ]
  },
  {
   "cell_type": "markdown",
   "metadata": {
    "colab_type": "text",
    "id": "jcqDgYMdVCTa"
   },
   "source": [
    "**Ejercicio 3**: Encontrar las 10 peliculas que han sido vistas por mas usuarios. \n",
    "\n"
   ]
  },
  {
   "cell_type": "code",
   "execution_count": 29,
   "metadata": {
    "colab": {
     "base_uri": "https://localhost:8080/",
     "height": 238
    },
    "colab_type": "code",
    "executionInfo": {
     "elapsed": 618,
     "status": "ok",
     "timestamp": 1599094966310,
     "user": {
      "displayName": "Diego Galeano",
      "photoUrl": "https://lh3.googleusercontent.com/a-/AOh14GhQWXSahinhC5AIsR14l3qpJg37OGXBVT0uRAsarw=s64",
      "userId": "05605395687006727326"
     },
     "user_tz": 180
    },
    "id": "t3MpcVrdVPZa",
    "outputId": "648cd284-fd7c-4496-f4c9-d2e9e81fdb1a"
   },
   "outputs": [
    {
     "name": "stdout",
     "output_type": "stream",
     "text": [
      "-----------------------------------------\n",
      "Top-10 peliculas vistas\n",
      " 50     583\n",
      "258    509\n",
      "100    508\n",
      "181    507\n",
      "294    485\n",
      "286    481\n",
      "288    478\n",
      "1      452\n",
      "300    431\n",
      "121    429\n",
      "Name: item_id, dtype: int64\n"
     ]
    }
   ],
   "source": [
    "count_movies = data.item_id.value_counts()\n",
    "data['item_counts'] = data.item_id.map(count_movies)\n",
    "\n",
    "# imprimir las top-10 peliculas mas vistas por los usuarios (en general)\n",
    "print('-----------------------------------------')\n",
    "print('Top-10 peliculas vistas\\n', count_movies.sort_values(ascending=False)[:10]) "
   ]
  },
  {
   "cell_type": "markdown",
   "metadata": {
    "colab_type": "text",
    "id": "Y7f-H9Mmfdkv"
   },
   "source": [
    "**Tarea 1**: Imprimir el porcentaje de usuarios que han visto las 10 peliculas mas populares, e obtener los IDs de las peliculas."
   ]
  },
  {
   "cell_type": "code",
   "execution_count": 67,
   "metadata": {
    "colab": {
     "base_uri": "https://localhost:8080/",
     "height": 51
    },
    "colab_type": "code",
    "executionInfo": {
     "elapsed": 632,
     "status": "ok",
     "timestamp": 1599096618594,
     "user": {
      "displayName": "Diego Galeano",
      "photoUrl": "https://lh3.googleusercontent.com/a-/AOh14GhQWXSahinhC5AIsR14l3qpJg37OGXBVT0uRAsarw=s64",
      "userId": "05605395687006727326"
     },
     "user_tz": 180
    },
    "id": "Fxof0PlVfl-k",
    "outputId": "72e35a5b-470a-4ea2-a692-4e28f5344386"
   },
   "outputs": [
    {
     "name": "stdout",
     "output_type": "stream",
     "text": [
      "Porcentage 98.3032873806999\n",
      "Top movies Int64Index([50, 258, 100, 181, 294, 286, 288, 1, 300, 121], dtype='int64')\n"
     ]
    }
   ],
   "source": [
    "IDTop_movies = count_movies.sort_values(ascending=False)[:10].index\n",
    "users_top10 = set()\n",
    "for i in IDTop_movies:\n",
    "  df = data[data.item_id == i]\n",
    "  for user in list(df['user_id']):   \n",
    "    users_top10.add(user)\n",
    "    \n",
    "print('Porcentage', 100*len(users_top10)/num_users)\n",
    "print('Top movies', IDTop_movies)"
   ]
  },
  {
   "cell_type": "markdown",
   "metadata": {
    "colab_type": "text",
    "id": "coWfX-frftKn"
   },
   "source": [
    "**Tarea 2**: Graficar la distribucion de la cantidad de peliculas que ha visto cada usuario"
   ]
  },
  {
   "cell_type": "code",
   "execution_count": 82,
   "metadata": {
    "colab": {
     "base_uri": "https://localhost:8080/",
     "height": 296
    },
    "colab_type": "code",
    "executionInfo": {
     "elapsed": 755,
     "status": "ok",
     "timestamp": 1599096901078,
     "user": {
      "displayName": "Diego Galeano",
      "photoUrl": "https://lh3.googleusercontent.com/a-/AOh14GhQWXSahinhC5AIsR14l3qpJg37OGXBVT0uRAsarw=s64",
      "userId": "05605395687006727326"
     },
     "user_tz": 180
    },
    "id": "x3AcZh1pf9x-",
    "outputId": "6eeedca9-7972-4aec-a8dc-b2d98f6055bb"
   },
   "outputs": [
    {
     "data": {
      "text/plain": [
       "Text(0.5, 0, 'Usuarios ordenados')"
      ]
     },
     "execution_count": 82,
     "metadata": {
      "tags": []
     },
     "output_type": "execute_result"
    },
    {
     "data": {
      "image/png": "[encoded data removed]",
      "text/plain": [
       "<Figure size 432x288 with 1 Axes>"
      ]
     },
     "metadata": {
      "needs_background": "light",
      "tags": []
     },
     "output_type": "display_data"
    }
   ],
   "source": [
    "plt.plot(list(count_users))\n",
    "plt.ylabel('Cantidad de peliculas')\n",
    "plt.xlabel('Usuarios ordenados')"
   ]
  },
  {
   "cell_type": "markdown",
   "metadata": {
    "colab_type": "text",
    "id": "yVAi-bdPf-YM"
   },
   "source": [
    "**Tarea 3**: Graficar la distribucion de la cantidad de usuarios que han visto cada pelicula"
   ]
  },
  {
   "cell_type": "code",
   "execution_count": 85,
   "metadata": {
    "colab": {
     "base_uri": "https://localhost:8080/",
     "height": 296
    },
    "colab_type": "code",
    "executionInfo": {
     "elapsed": 686,
     "status": "ok",
     "timestamp": 1599096945910,
     "user": {
      "displayName": "Diego Galeano",
      "photoUrl": "https://lh3.googleusercontent.com/a-/AOh14GhQWXSahinhC5AIsR14l3qpJg37OGXBVT0uRAsarw=s64",
      "userId": "05605395687006727326"
     },
     "user_tz": 180
    },
    "id": "ousDTdQCgB-p",
    "outputId": "0da41718-b669-4467-a050-ea4f933fdca4"
   },
   "outputs": [
    {
     "data": {
      "text/plain": [
       "Text(0.5, 0, 'Peliculas ordenadas')"
      ]
     },
     "execution_count": 85,
     "metadata": {
      "tags": []
     },
     "output_type": "execute_result"
    },
    {
     "data": {
      "image/png": "[encoded data removed]",
      "text/plain": [
       "<Figure size 432x288 with 1 Axes>"
      ]
     },
     "metadata": {
      "needs_background": "light",
      "tags": []
     },
     "output_type": "display_data"
    }
   ],
   "source": [
    "plt.plot(list(count_movies))\n",
    "plt.ylabel('Cantidad de usuarios')\n",
    "plt.xlabel('Peliculas ordenadas')"
   ]
  }
 ],
 "metadata": {
  "colab": {
   "authorship_tag": "ABX9TyOl64pjABuc3p4uPZUAViSq",
   "name": "clase 1.ipynb",
   "provenance": []
  },
  "kernelspec": {
   "display_name": "Python 3",
   "language": "python",
   "name": "python3"
  },
  "language_info": {
   "codemirror_mode": {
    "name": "ipython",
    "version": 3
   },
   "file_extension": ".py",
   "mimetype": "text/x-python",
   "name": "python",
   "nbconvert_exporter": "python",
   "pygments_lexer": "ipython3",
   "version": "3.7.7"
  }
 },
 "nbformat": 4,
 "nbformat_minor": 1
}
