{
 "cells": [
  {
   "cell_type": "markdown",
   "metadata": {
    "colab_type": "text",
    "id": "UvscgNGEMT99"
   },
   "source": [
    "Las siguientes librerias son necesarias para correr el codigo en este notebook"
   ]
  },
  {
   "cell_type": "code",
   "execution_count": 1,
   "metadata": {
    "colab": {
     "base_uri": "https://localhost:8080/",
     "height": 1000
    },
    "colab_type": "code",
    "executionInfo": {
     "elapsed": 83670,
     "status": "ok",
     "timestamp": 1599085531117,
     "user": {
      "displayName": "Diego Galeano",
      "photoUrl": "https://lh3.googleusercontent.com/a-/AOh14GhQWXSahinhC5AIsR14l3qpJg37OGXBVT0uRAsarw=s64",
      "userId": "05605395687006727326"
     },
     "user_tz": 180
    },
    "id": "-GkLV8kUMbrO",
    "outputId": "1f64a35c-a5c2-465d-9b3b-e3c7643d9dcb"
   },
   "outputs": [
    {
     "name": "stdout",
     "output_type": "stream",
     "text": [
      "Requirement already satisfied: d2l==0.14.3 in c:\\users\\hp\\.conda\\envs\\ucommachinelearning\\lib\\site-packages (0.14.3)\n",
      "Requirement already satisfied: pandas in c:\\users\\hp\\.conda\\envs\\ucommachinelearning\\lib\\site-packages (from d2l==0.14.3) (1.0.3)\n",
      "Requirement already satisfied: numpy in c:\\users\\hp\\.conda\\envs\\ucommachinelearning\\lib\\site-packages (from d2l==0.14.3) (1.16.6)\n",
      "Requirement already satisfied: jupyter in c:\\users\\hp\\.conda\\envs\\ucommachinelearning\\lib\\site-packages (from d2l==0.14.3) (1.0.0)\n",
      "Requirement already satisfied: matplotlib in c:\\users\\hp\\.conda\\envs\\ucommachinelearning\\lib\\site-packages (from d2l==0.14.3) (3.2.2)\n",
      "Requirement already satisfied: pytz>=2017.2 in c:\\users\\hp\\.conda\\envs\\ucommachinelearning\\lib\\site-packages (from pandas->d2l==0.14.3) (2020.1)\n",
      "Requirement already satisfied: python-dateutil>=2.6.1 in c:\\users\\hp\\.conda\\envs\\ucommachinelearning\\lib\\site-packages (from pandas->d2l==0.14.3) (2.8.1)\n",
      "Requirement already satisfied: nbconvert in c:\\users\\hp\\.conda\\envs\\ucommachinelearning\\lib\\site-packages (from jupyter->d2l==0.14.3) (5.6.1)\n",
      "Requirement already satisfied: ipywidgets in c:\\users\\hp\\.conda\\envs\\ucommachinelearning\\lib\\site-packages (from jupyter->d2l==0.14.3) (7.5.1)\n",
      "Requirement already satisfied: ipykernel in c:\\users\\hp\\.conda\\envs\\ucommachinelearning\\lib\\site-packages (from jupyter->d2l==0.14.3) (5.3.4)\n",
      "Requirement already satisfied: jupyter-console in c:\\users\\hp\\.conda\\envs\\ucommachinelearning\\lib\\site-packages (from jupyter->d2l==0.14.3) (6.2.0)\n",
      "Requirement already satisfied: qtconsole in c:\\users\\hp\\.conda\\envs\\ucommachinelearning\\lib\\site-packages (from jupyter->d2l==0.14.3) (4.7.7)\n",
      "Requirement already satisfied: notebook in c:\\users\\hp\\.conda\\envs\\ucommachinelearning\\lib\\site-packages (from jupyter->d2l==0.14.3) (6.0.3)\n",
      "Requirement already satisfied: cycler>=0.10 in c:\\users\\hp\\.conda\\envs\\ucommachinelearning\\lib\\site-packages (from matplotlib->d2l==0.14.3) (0.10.0)\n",
      "Requirement already satisfied: kiwisolver>=1.0.1 in c:\\users\\hp\\.conda\\envs\\ucommachinelearning\\lib\\site-packages (from matplotlib->d2l==0.14.3) (1.2.0)\n",
      "Requirement already satisfied: pyparsing!=2.0.4,!=2.1.2,!=2.1.6,>=2.0.1 in c:\\users\\hp\\.conda\\envs\\ucommachinelearning\\lib\\site-packages (from matplotlib->d2l==0.14.3) (2.4.7)\n",
      "Requirement already satisfied: six>=1.5 in c:\\users\\hp\\.conda\\envs\\ucommachinelearning\\lib\\site-packages (from python-dateutil>=2.6.1->pandas->d2l==0.14.3) (1.15.0)\n",
      "Requirement already satisfied: testpath in c:\\users\\hp\\.conda\\envs\\ucommachinelearning\\lib\\site-packages (from nbconvert->jupyter->d2l==0.14.3) (0.4.4)\n",
      "Requirement already satisfied: entrypoints>=0.2.2 in c:\\users\\hp\\.conda\\envs\\ucommachinelearning\\lib\\site-packages (from nbconvert->jupyter->d2l==0.14.3) (0.3)\n",
      "Requirement already satisfied: bleach in c:\\users\\hp\\.conda\\envs\\ucommachinelearning\\lib\\site-packages (from nbconvert->jupyter->d2l==0.14.3) (3.1.5)\n",
      "Requirement already satisfied: defusedxml in c:\\users\\hp\\.conda\\envs\\ucommachinelearning\\lib\\site-packages (from nbconvert->jupyter->d2l==0.14.3) (0.6.0)\n",
      "Requirement already satisfied: mistune<2,>=0.8.1 in c:\\users\\hp\\.conda\\envs\\ucommachinelearning\\lib\\site-packages (from nbconvert->jupyter->d2l==0.14.3) (0.8.4)\n",
      "Requirement already satisfied: traitlets>=4.2 in c:\\users\\hp\\.conda\\envs\\ucommachinelearning\\lib\\site-packages (from nbconvert->jupyter->d2l==0.14.3) (4.3.3)\n",
      "Requirement already satisfied: nbformat>=4.4 in c:\\users\\hp\\.conda\\envs\\ucommachinelearning\\lib\\site-packages (from nbconvert->jupyter->d2l==0.14.3) (5.0.7)\n",
      "Requirement already satisfied: pygments in c:\\users\\hp\\.conda\\envs\\ucommachinelearning\\lib\\site-packages (from nbconvert->jupyter->d2l==0.14.3) (2.6.1)\n",
      "Requirement already satisfied: jupyter-core in c:\\users\\hp\\.conda\\envs\\ucommachinelearning\\lib\\site-packages (from nbconvert->jupyter->d2l==0.14.3) (4.6.3)\n",
      "Requirement already satisfied: jinja2>=2.4 in c:\\users\\hp\\.conda\\envs\\ucommachinelearning\\lib\\site-packages (from nbconvert->jupyter->d2l==0.14.3) (2.11.2)\n",
      "Requirement already satisfied: pandocfilters>=1.4.1 in c:\\users\\hp\\.conda\\envs\\ucommachinelearning\\lib\\site-packages (from nbconvert->jupyter->d2l==0.14.3) (1.4.2)\n",
      "Requirement already satisfied: widgetsnbextension~=3.5.0 in c:\\users\\hp\\.conda\\envs\\ucommachinelearning\\lib\\site-packages (from ipywidgets->jupyter->d2l==0.14.3) (3.5.1)\n",
      "Requirement already satisfied: ipython>=4.0.0; python_version >= \"3.3\" in c:\\users\\hp\\.conda\\envs\\ucommachinelearning\\lib\\site-packages (from ipywidgets->jupyter->d2l==0.14.3) (7.17.0)\n",
      "Requirement already satisfied: tornado>=4.2 in c:\\users\\hp\\.conda\\envs\\ucommachinelearning\\lib\\site-packages (from ipykernel->jupyter->d2l==0.14.3) (6.0.4)\n",
      "Requirement already satisfied: jupyter-client in c:\\users\\hp\\.conda\\envs\\ucommachinelearning\\lib\\site-packages (from ipykernel->jupyter->d2l==0.14.3) (6.1.6)\n",
      "Requirement already satisfied: prompt-toolkit!=3.0.0,!=3.0.1,<3.1.0,>=2.0.0 in c:\\users\\hp\\.conda\\envs\\ucommachinelearning\\lib\\site-packages (from jupyter-console->jupyter->d2l==0.14.3) (3.0.5)\n",
      "Requirement already satisfied: pyzmq>=17.1 in c:\\users\\hp\\.conda\\envs\\ucommachinelearning\\lib\\site-packages (from qtconsole->jupyter->d2l==0.14.3) (19.0.1)\n",
      "Requirement already satisfied: qtpy in c:\\users\\hp\\.conda\\envs\\ucommachinelearning\\lib\\site-packages (from qtconsole->jupyter->d2l==0.14.3) (1.9.0)\n",
      "Requirement already satisfied: ipython-genutils in c:\\users\\hp\\.conda\\envs\\ucommachinelearning\\lib\\site-packages (from qtconsole->jupyter->d2l==0.14.3) (0.2.0)\n",
      "Requirement already satisfied: terminado>=0.8.1 in c:\\users\\hp\\.conda\\envs\\ucommachinelearning\\lib\\site-packages (from notebook->jupyter->d2l==0.14.3) (0.8.3)\n",
      "Requirement already satisfied: prometheus-client in c:\\users\\hp\\.conda\\envs\\ucommachinelearning\\lib\\site-packages (from notebook->jupyter->d2l==0.14.3) (0.8.0)\n",
      "Requirement already satisfied: Send2Trash in c:\\users\\hp\\.conda\\envs\\ucommachinelearning\\lib\\site-packages (from notebook->jupyter->d2l==0.14.3) (1.5.0)\n",
      "Requirement already satisfied: webencodings in c:\\users\\hp\\.conda\\envs\\ucommachinelearning\\lib\\site-packages (from bleach->nbconvert->jupyter->d2l==0.14.3) (0.5.1)\n",
      "Requirement already satisfied: packaging in c:\\users\\hp\\.conda\\envs\\ucommachinelearning\\lib\\site-packages (from bleach->nbconvert->jupyter->d2l==0.14.3) (20.4)\n",
      "Requirement already satisfied: decorator in c:\\users\\hp\\.conda\\envs\\ucommachinelearning\\lib\\site-packages (from traitlets>=4.2->nbconvert->jupyter->d2l==0.14.3) (4.4.2)\n",
      "Requirement already satisfied: jsonschema!=2.5.0,>=2.4 in c:\\users\\hp\\.conda\\envs\\ucommachinelearning\\lib\\site-packages (from nbformat>=4.4->nbconvert->jupyter->d2l==0.14.3) (3.2.0)\n",
      "Requirement already satisfied: pywin32>=1.0; sys_platform == \"win32\" in c:\\users\\hp\\.conda\\envs\\ucommachinelearning\\lib\\site-packages (from jupyter-core->nbconvert->jupyter->d2l==0.14.3) (227)\n",
      "Requirement already satisfied: MarkupSafe>=0.23 in c:\\users\\hp\\.conda\\envs\\ucommachinelearning\\lib\\site-packages (from jinja2>=2.4->nbconvert->jupyter->d2l==0.14.3) (1.1.1)\n",
      "Requirement already satisfied: pickleshare in c:\\users\\hp\\.conda\\envs\\ucommachinelearning\\lib\\site-packages (from ipython>=4.0.0; python_version >= \"3.3\"->ipywidgets->jupyter->d2l==0.14.3) (0.7.5)\n",
      "Requirement already satisfied: backcall in c:\\users\\hp\\.conda\\envs\\ucommachinelearning\\lib\\site-packages (from ipython>=4.0.0; python_version >= \"3.3\"->ipywidgets->jupyter->d2l==0.14.3) (0.2.0)\n",
      "Requirement already satisfied: jedi>=0.10 in c:\\users\\hp\\.conda\\envs\\ucommachinelearning\\lib\\site-packages (from ipython>=4.0.0; python_version >= \"3.3\"->ipywidgets->jupyter->d2l==0.14.3) (0.17.2)\n",
      "Requirement already satisfied: setuptools>=18.5 in c:\\users\\hp\\.conda\\envs\\ucommachinelearning\\lib\\site-packages (from ipython>=4.0.0; python_version >= \"3.3\"->ipywidgets->jupyter->d2l==0.14.3) (49.2.1.post20200807)\n",
      "Requirement already satisfied: colorama; sys_platform == \"win32\" in c:\\users\\hp\\.conda\\envs\\ucommachinelearning\\lib\\site-packages (from ipython>=4.0.0; python_version >= \"3.3\"->ipywidgets->jupyter->d2l==0.14.3) (0.4.3)\n",
      "Requirement already satisfied: wcwidth in c:\\users\\hp\\.conda\\envs\\ucommachinelearning\\lib\\site-packages (from prompt-toolkit!=3.0.0,!=3.0.1,<3.1.0,>=2.0.0->jupyter-console->jupyter->d2l==0.14.3) (0.2.5)\n",
      "Requirement already satisfied: attrs>=17.4.0 in c:\\users\\hp\\.conda\\envs\\ucommachinelearning\\lib\\site-packages (from jsonschema!=2.5.0,>=2.4->nbformat>=4.4->nbconvert->jupyter->d2l==0.14.3) (19.3.0)\n",
      "Requirement already satisfied: pyrsistent>=0.14.0 in c:\\users\\hp\\.conda\\envs\\ucommachinelearning\\lib\\site-packages (from jsonschema!=2.5.0,>=2.4->nbformat>=4.4->nbconvert->jupyter->d2l==0.14.3) (0.16.0)\n",
      "Requirement already satisfied: importlib-metadata; python_version < \"3.8\" in c:\\users\\hp\\.conda\\envs\\ucommachinelearning\\lib\\site-packages (from jsonschema!=2.5.0,>=2.4->nbformat>=4.4->nbconvert->jupyter->d2l==0.14.3) (1.7.0)\n",
      "Requirement already satisfied: parso<0.8.0,>=0.7.0 in c:\\users\\hp\\.conda\\envs\\ucommachinelearning\\lib\\site-packages (from jedi>=0.10->ipython>=4.0.0; python_version >= \"3.3\"->ipywidgets->jupyter->d2l==0.14.3) (0.7.0)\n",
      "Requirement already satisfied: zipp>=0.5 in c:\\users\\hp\\.conda\\envs\\ucommachinelearning\\lib\\site-packages (from importlib-metadata; python_version < \"3.8\"->jsonschema!=2.5.0,>=2.4->nbformat>=4.4->nbconvert->jupyter->d2l==0.14.3) (3.1.0)\n"
     ]
    },
    {
     "name": "stderr",
     "output_type": "stream",
     "text": [
      "ERROR: Invalid requirement: '#'\n"
     ]
    }
   ],
   "source": [
    "!pip install d2l==0.14.3\n",
    "!pip install -U mxnet-cu101mkl  # updating mxnet to at least v1.6"
   ]
  },
  {
   "cell_type": "markdown",
   "metadata": {
    "colab_type": "text",
    "id": "yHnYjo2TIq-Y"
   },
   "source": [
    "# **Sistemas de Recomendacion** \n",
    "\n",
    "## Clase 1: Introduccion al Movielens dataset\n",
    "\n",
    "Diego Galeano, Ph.D.\n",
    "\n",
    "Parcialmente basada en la version en ingles: https://colab.research.google.com/github/d2l-ai/d2l-en-colab/blob/master/chapter_recommender-systems/movielens.ipynb\n",
    "\n"
   ]
  },
  {
   "cell_type": "markdown",
   "metadata": {
    "colab_type": "text",
    "id": "HTP3vHQYJWeg"
   },
   "source": [
    "### El MovieLens dataset\n",
    "\n",
    "Hay una serie de conjuntos de datos disponibles para la investigación de sistemas de recomendaciones. Entre ellos, el conjunto de datos MovieLens es probablemente uno de los más populares. MovieLens es un sistema de recomendación de películas no comercial basado en la web. Fue creado en 1997 y dirigido por GroupLens, un laboratorio de investigación de la Universidad de Minnesota, con el fin de recopilar datos de clasificación de películas con fines de investigación. Los datos de MovieLens han sido fundamentales para varios estudios de investigación, incluida la recomendación personalizada y la psicología social.\n",
    "\n",
    "####  Obtener los datos\n",
    "\n",
    "El dataset de Movielens se encuentra hosteado en la website de [GroupLens](https://grouplens.org/datasets/movielens/). Varias versiones del dataset estan disponibles. Nosotros utilizaremos el Movielens 100K dataset :cite:`Herlocker.Konstan.Borchers.ea.1999`. Este dataset contiene $100,000$ ratings, con \"calificaciones\" de 1 a 5 estrellas, de 943 usuarios en 1682 peliculas. Este dataset ha sido limpiado de tal forma que cada usuario ha calificado al menos 20 peliculas (NO COLD-START PROBLEM). Algunos datos demograficos como edad, género de los usuarios y peliculas tambien estan disponibles. Podemos decargar los datos de [ml-100k.zip](http://files.grouplens.org/datasets/movielens/ml-100k.zip) y extraer el archivo `u.data`, el cual contiene los $100,000$ ratings en formato csv. Hay muchos otros archivos en la carpeta, detalles aqui  [README](http://files.grouplens.org/datasets/movielens/ml-100k-README.txt).\n",
    "\n",
    "Primeramente, importamos las librerias que usaremos en esta seccion.\n"
   ]
  },
  {
   "cell_type": "code",
   "execution_count": 51,
   "metadata": {},
   "outputs": [],
   "source": [
    "%config IPCompleter.greedy=True"
   ]
  },
  {
   "cell_type": "code",
   "execution_count": 2,
   "metadata": {
    "colab": {},
    "colab_type": "code",
    "executionInfo": {
     "elapsed": 772,
     "status": "ok",
     "timestamp": 1599088040179,
     "user": {
      "displayName": "Diego Galeano",
      "photoUrl": "https://lh3.googleusercontent.com/a-/AOh14GhQWXSahinhC5AIsR14l3qpJg37OGXBVT0uRAsarw=s64",
      "userId": "05605395687006727326"
     },
     "user_tz": 180
    },
    "id": "HZVL_OGLJaXv"
   },
   "outputs": [],
   "source": [
    "from d2l import mxnet as d2l\n",
    "from mxnet import gluon, np\n",
    "import os\n",
    "import pandas as pd\n",
    "import numpy as np\n",
    "import seaborn as sns\n",
    "import matplotlib.pyplot as plt"
   ]
  },
  {
   "cell_type": "markdown",
   "metadata": {
    "colab_type": "text",
    "id": "7gbxzvXNMu13"
   },
   "source": [
    "Luego, descargamos el conjunto de datos MovieLens 100k y cargamos las interacciones como `DataFrame`."
   ]
  },
  {
   "cell_type": "code",
   "execution_count": 3,
   "metadata": {
    "colab": {},
    "colab_type": "code",
    "executionInfo": {
     "elapsed": 654,
     "status": "ok",
     "timestamp": 1599088158532,
     "user": {
      "displayName": "Diego Galeano",
      "photoUrl": "https://lh3.googleusercontent.com/a-/AOh14GhQWXSahinhC5AIsR14l3qpJg37OGXBVT0uRAsarw=s64",
      "userId": "05605395687006727326"
     },
     "user_tz": 180
    },
    "id": "Kb5XvkQQL0R3"
   },
   "outputs": [],
   "source": [
    "#@save\n",
    "d2l.DATA_HUB['ml-100k'] = (\n",
    "    'http://files.grouplens.org/datasets/movielens/ml-100k.zip',\n",
    "    'cd4dcac4241c8a4ad7badc7ca635da8a69dddb83')\n",
    "\n",
    "#@save\n",
    "def read_data_ml100k():\n",
    "    data_dir = d2l.download_extract('ml-100k')\n",
    "    names = ['user_id', 'item_id', 'rating', 'timestamp']\n",
    "    data = pd.read_csv(os.path.join(data_dir, 'u.data'), '\\t', names=names,\n",
    "                       engine='python')\n",
    "    num_users = data.user_id.unique().shape[0]\n",
    "    num_items = data.item_id.unique().shape[0]\n",
    "    return data, num_users, num_items"
   ]
  },
  {
   "cell_type": "markdown",
   "metadata": {
    "colab_type": "text",
    "id": "zEghbzH0M8EB"
   },
   "source": [
    "## Estadísticas de Movielens 100K\n",
    "\n",
    "Carguemos los datos e inspeccionemos los primeros cinco registros manualmente. Es una forma eficaz de conocer la estructura de los datos y verificar que se hayan cargado correctamente."
   ]
  },
  {
   "cell_type": "code",
   "execution_count": 4,
   "metadata": {
    "colab": {
     "base_uri": "https://localhost:8080/",
     "height": 170
    },
    "colab_type": "code",
    "executionInfo": {
     "elapsed": 1389,
     "status": "ok",
     "timestamp": 1599094593702,
     "user": {
      "displayName": "Diego Galeano",
      "photoUrl": "https://lh3.googleusercontent.com/a-/AOh14GhQWXSahinhC5AIsR14l3qpJg37OGXBVT0uRAsarw=s64",
      "userId": "05605395687006727326"
     },
     "user_tz": 180
    },
    "id": "rLg7811EM03X",
    "outputId": "3d7001cc-5e8f-4337-b21d-af58c05c96af"
   },
   "outputs": [
    {
     "name": "stdout",
     "output_type": "stream",
     "text": [
      "Downloading ..\\data\\ml-100k.zip from http://files.grouplens.org/datasets/movielens/ml-100k.zip...\n",
      "number of users: 943, number of items: 1682\n",
      "matrix sparsity: 0.936953\n",
      "matrix density: 0.063047\n",
      "   user_id  item_id  rating  timestamp\n",
      "0      196      242       3  881250949\n",
      "1      186      302       3  891717742\n",
      "2       22      377       1  878887116\n",
      "3      244       51       2  880606923\n",
      "4      166      346       1  886397596\n"
     ]
    }
   ],
   "source": [
    "data, num_users, num_items = read_data_ml100k()\n",
    "density = len(data) / (num_users * num_items)\n",
    "sparsity = 1 - density\n",
    "\n",
    "print(f'number of users: {num_users}, number of items: {num_items}')\n",
    "print(f'matrix sparsity: {sparsity:f}')\n",
    "print(f'matrix density: {density:f}')\n",
    "print(data.head(5))"
   ]
  },
  {
   "cell_type": "markdown",
   "metadata": {
    "colab_type": "text",
    "id": "AtfinQVFRUc_"
   },
   "source": [
    "Podemos ver que cada línea consta de cuatro columnas, que incluyen \"ID de usuario\" 1-943, \"ID de artículo\" 1-1682, \"Rating\" 1-5 y \"Marca de tiempo\". Podemos construir una matriz de interacción de tamaño $n \\times m $, donde $n$ y $m$ son el número de usuarios y el número de elementos, respectivamente. Este conjunto de datos solo registra las calificaciones existentes, por lo que también podemos llamarlo matriz de calificación (*rating matrix*) y usaremos matriz de interacción y matriz de calificación indistintamente en caso de que los valores de esta matriz representen calificaciones exactas. La mayoría de los valores de la matriz de clasificación se desconocen ya que los usuarios no han calificado la mayoría de las películas. También mostramos la escasez (*sparsity*) de este conjunto de datos. La escasez se define como \"1 - número de entradas distintas de cero / (número de usuarios * número de elementos)\". Claramente, la matriz de interacción es extremadamente escasa (es decir, escasez o *sparsity* = 93,695%). Los conjuntos de datos del mundo real pueden sufrir un grado mayor de escasez y han sido un desafío en la construcción de sistemas de recomendación. Una solución viable es utilizar información lateral adicional, como las características del usuario / artículo, para aliviar la escasez.\n",
    "\n",
    "Luego trazamos la distribución del recuento de diferentes calificaciones. Como se esperaba, parece ser una distribución normal, con la mayoría de las calificaciones centradas en 3-4.\n"
   ]
  },
  {
   "cell_type": "code",
   "execution_count": 5,
   "metadata": {
    "colab": {
     "base_uri": "https://localhost:8080/",
     "height": 279
    },
    "colab_type": "code",
    "executionInfo": {
     "elapsed": 876,
     "status": "ok",
     "timestamp": 1599085551229,
     "user": {
      "displayName": "Diego Galeano",
      "photoUrl": "https://lh3.googleusercontent.com/a-/AOh14GhQWXSahinhC5AIsR14l3qpJg37OGXBVT0uRAsarw=s64",
      "userId": "05605395687006727326"
     },
     "user_tz": 180
    },
    "id": "4v8y6wekM6hE",
    "outputId": "dbe4315d-f4c4-4cfc-ff8e-872fb0af75c2"
   },
   "outputs": [
    {
     "data": {
      "image/png": "[encoded data removed]",
      "text/plain": [
       "<Figure size 432x288 with 1 Axes>"
      ]
     },
     "metadata": {
      "needs_background": "light"
     },
     "output_type": "display_data"
    }
   ],
   "source": [
    "sns.distplot(data['rating'], kde = False)\n",
    "plt.ylabel('Cantidad')\n",
    "plt.xlabel('rating')\n",
    "plt.grid()"
   ]
  },
  {
   "cell_type": "code",
   "execution_count": 6,
   "metadata": {
    "colab": {
     "base_uri": "https://localhost:8080/",
     "height": 419
    },
    "colab_type": "code",
    "executionInfo": {
     "elapsed": 646,
     "status": "ok",
     "timestamp": 1599094604525,
     "user": {
      "displayName": "Diego Galeano",
      "photoUrl": "https://lh3.googleusercontent.com/a-/AOh14GhQWXSahinhC5AIsR14l3qpJg37OGXBVT0uRAsarw=s64",
      "userId": "05605395687006727326"
     },
     "user_tz": 180
    },
    "id": "Wrv1zOVC7fmR",
    "outputId": "c0418237-a703-4d15-d886-cba7cf07ef09"
   },
   "outputs": [
    {
     "data": {
      "text/html": [
       "<div>\n",
       "<style scoped>\n",
       "    .dataframe tbody tr th:only-of-type {\n",
       "        vertical-align: middle;\n",
       "    }\n",
       "\n",
       "    .dataframe tbody tr th {\n",
       "        vertical-align: top;\n",
       "    }\n",
       "\n",
       "    .dataframe thead th {\n",
       "        text-align: right;\n",
       "    }\n",
       "</style>\n",
       "<table border=\"1\" class=\"dataframe\">\n",
       "  <thead>\n",
       "    <tr style=\"text-align: right;\">\n",
       "      <th></th>\n",
       "      <th>user_id</th>\n",
       "      <th>item_id</th>\n",
       "      <th>rating</th>\n",
       "      <th>timestamp</th>\n",
       "    </tr>\n",
       "  </thead>\n",
       "  <tbody>\n",
       "    <tr>\n",
       "      <th>0</th>\n",
       "      <td>196</td>\n",
       "      <td>242</td>\n",
       "      <td>3</td>\n",
       "      <td>881250949</td>\n",
       "    </tr>\n",
       "    <tr>\n",
       "      <th>1</th>\n",
       "      <td>186</td>\n",
       "      <td>302</td>\n",
       "      <td>3</td>\n",
       "      <td>891717742</td>\n",
       "    </tr>\n",
       "    <tr>\n",
       "      <th>2</th>\n",
       "      <td>22</td>\n",
       "      <td>377</td>\n",
       "      <td>1</td>\n",
       "      <td>878887116</td>\n",
       "    </tr>\n",
       "    <tr>\n",
       "      <th>3</th>\n",
       "      <td>244</td>\n",
       "      <td>51</td>\n",
       "      <td>2</td>\n",
       "      <td>880606923</td>\n",
       "    </tr>\n",
       "    <tr>\n",
       "      <th>4</th>\n",
       "      <td>166</td>\n",
       "      <td>346</td>\n",
       "      <td>1</td>\n",
       "      <td>886397596</td>\n",
       "    </tr>\n",
       "    <tr>\n",
       "      <th>...</th>\n",
       "      <td>...</td>\n",
       "      <td>...</td>\n",
       "      <td>...</td>\n",
       "      <td>...</td>\n",
       "    </tr>\n",
       "    <tr>\n",
       "      <th>99995</th>\n",
       "      <td>880</td>\n",
       "      <td>476</td>\n",
       "      <td>3</td>\n",
       "      <td>880175444</td>\n",
       "    </tr>\n",
       "    <tr>\n",
       "      <th>99996</th>\n",
       "      <td>716</td>\n",
       "      <td>204</td>\n",
       "      <td>5</td>\n",
       "      <td>879795543</td>\n",
       "    </tr>\n",
       "    <tr>\n",
       "      <th>99997</th>\n",
       "      <td>276</td>\n",
       "      <td>1090</td>\n",
       "      <td>1</td>\n",
       "      <td>874795795</td>\n",
       "    </tr>\n",
       "    <tr>\n",
       "      <th>99998</th>\n",
       "      <td>13</td>\n",
       "      <td>225</td>\n",
       "      <td>2</td>\n",
       "      <td>882399156</td>\n",
       "    </tr>\n",
       "    <tr>\n",
       "      <th>99999</th>\n",
       "      <td>12</td>\n",
       "      <td>203</td>\n",
       "      <td>3</td>\n",
       "      <td>879959583</td>\n",
       "    </tr>\n",
       "  </tbody>\n",
       "</table>\n",
       "<p>100000 rows × 4 columns</p>\n",
       "</div>"
      ],
      "text/plain": [
       "       user_id  item_id  rating  timestamp\n",
       "0          196      242       3  881250949\n",
       "1          186      302       3  891717742\n",
       "2           22      377       1  878887116\n",
       "3          244       51       2  880606923\n",
       "4          166      346       1  886397596\n",
       "...        ...      ...     ...        ...\n",
       "99995      880      476       3  880175444\n",
       "99996      716      204       5  879795543\n",
       "99997      276     1090       1  874795795\n",
       "99998       13      225       2  882399156\n",
       "99999       12      203       3  879959583\n",
       "\n",
       "[100000 rows x 4 columns]"
      ]
     },
     "execution_count": 6,
     "metadata": {},
     "output_type": "execute_result"
    }
   ],
   "source": [
    "data"
   ]
  },
  {
   "cell_type": "markdown",
   "metadata": {
    "colab_type": "text",
    "id": "YuK4GO9uT6sa"
   },
   "source": [
    "**Ejercicio 1**: Calcular el rating promedio (y la desviacion estandar) en Movielens 100K y dar una interpretacion de lo que el valor significa."
   ]
  },
  {
   "cell_type": "code",
   "execution_count": 7,
   "metadata": {
    "colab": {
     "base_uri": "https://localhost:8080/",
     "height": 51
    },
    "colab_type": "code",
    "executionInfo": {
     "elapsed": 1151,
     "status": "ok",
     "timestamp": 1599089189602,
     "user": {
      "displayName": "Diego Galeano",
      "photoUrl": "https://lh3.googleusercontent.com/a-/AOh14GhQWXSahinhC5AIsR14l3qpJg37OGXBVT0uRAsarw=s64",
      "userId": "05605395687006727326"
     },
     "user_tz": 180
    },
    "id": "c-QOvgYsT1hR",
    "outputId": "d16cf0bd-135b-4570-ff14-c2ccad5734dd"
   },
   "outputs": [
    {
     "name": "stdout",
     "output_type": "stream",
     "text": [
      "Rating promedio 3.52986\n",
      "Rating std 1.1256679707622492\n"
     ]
    }
   ],
   "source": [
    "rating_promedio = np.mean(data['rating']) # promedio usando np.mean(.)\n",
    "rating_std = np.std(data['rating']) # standard deviation usando np.std(.)\n",
    "\n",
    "print('Rating promedio', rating_promedio)\n",
    "print('Rating std', rating_std)"
   ]
  },
  {
   "cell_type": "markdown",
   "metadata": {
    "colab_type": "text",
    "id": "0sRrJWZAU0q_"
   },
   "source": [
    "**Ejercicio 2**: Encontrar al usuario que have visto mas peliculas en Movielens 100K. Cuantas peliculas ha visto? Imprimir 10 peliculas vistas por dicho usuario\n",
    "."
   ]
  },
  {
   "cell_type": "code",
   "execution_count": 8,
   "metadata": {
    "colab": {
     "base_uri": "https://localhost:8080/",
     "height": 374
    },
    "colab_type": "code",
    "executionInfo": {
     "elapsed": 565,
     "status": "ok",
     "timestamp": 1599095008918,
     "user": {
      "displayName": "Diego Galeano",
      "photoUrl": "https://lh3.googleusercontent.com/a-/AOh14GhQWXSahinhC5AIsR14l3qpJg37OGXBVT0uRAsarw=s64",
      "userId": "05605395687006727326"
     },
     "user_tz": 180
    },
    "id": "ABfpB6mjUPhJ",
    "outputId": "9f441b73-0145-40e8-d121-921ef3115894"
   },
   "outputs": [
    {
     "name": "stdout",
     "output_type": "stream",
     "text": [
      "Usuario que ha visto mas peliculas\n",
      " user_id              405\n",
      "item_id             1564\n",
      "rating                 1\n",
      "timestamp      885546288\n",
      "user_counts          737\n",
      "Name: 81224, dtype: int64\n",
      "-----------------------------------------\n",
      "10 peliculas vistas por el usuario con mas peliculas vistas\n",
      "        user_id  item_id  rating  timestamp  user_counts\n",
      "81224      405     1564       1  885546288          737\n",
      "12449      405      171       1  885549544          737\n",
      "48059      405      317       4  885544911          737\n",
      "12430      405     1582       1  885548670          737\n",
      "57089      405      708       1  885546487          737\n",
      "27282      405      211       1  885547177          737\n",
      "27284      405     1307       1  885546529          737\n",
      "27316      405      788       1  885548275          737\n",
      "12383      405      592       1  885548670          737\n",
      "71258      405      392       5  885545487          737\n"
     ]
    }
   ],
   "source": [
    "#cantidad de peliculas vista por usuario\n",
    "count_users = data.user_id.value_counts()\n",
    "\n",
    "# podemos agregar una nueva columna en data con esta info\n",
    "data['user_counts'] = data.user_id.map(count_users)\n",
    "\n",
    "data_orderedbyusers = data.sort_values('user_counts', ascending=False)\n",
    "\n",
    "print('Usuario que ha visto mas peliculas\\n', data_orderedbyusers.iloc[0]) \n",
    "\n",
    "# imprimir  10 peliculas vistas por dicho usuario\n",
    "print('-----------------------------------------')\n",
    "print('10 peliculas vistas por el usuario con mas peliculas vistas\\n', data_orderedbyusers.iloc[0:10]) "
   ]
  },
  {
   "cell_type": "markdown",
   "metadata": {},
   "source": [
    "## Estudio del dataframe"
   ]
  },
  {
   "cell_type": "markdown",
   "metadata": {},
   "source": [
    "#### Algunos comandos para analizar el dataframe"
   ]
  },
  {
   "cell_type": "markdown",
   "metadata": {
    "colab_type": "text",
    "id": "jcqDgYMdVCTa"
   },
   "source": [
    "**Ejercicio 3**: Encontrar las 10 peliculas que han sido vistas por mas usuarios. \n",
    "\n"
   ]
  },
  {
   "cell_type": "code",
   "execution_count": 20,
   "metadata": {},
   "outputs": [
    {
     "data": {
      "text/html": [
       "<div>\n",
       "<style scoped>\n",
       "    .dataframe tbody tr th:only-of-type {\n",
       "        vertical-align: middle;\n",
       "    }\n",
       "\n",
       "    .dataframe tbody tr th {\n",
       "        vertical-align: top;\n",
       "    }\n",
       "\n",
       "    .dataframe thead th {\n",
       "        text-align: right;\n",
       "    }\n",
       "</style>\n",
       "<table border=\"1\" class=\"dataframe\">\n",
       "  <thead>\n",
       "    <tr style=\"text-align: right;\">\n",
       "      <th></th>\n",
       "      <th>user_id</th>\n",
       "      <th>item_id</th>\n",
       "      <th>rating</th>\n",
       "      <th>timestamp</th>\n",
       "      <th>user_counts</th>\n",
       "      <th>item_counts</th>\n",
       "      <th>movie_counts</th>\n",
       "    </tr>\n",
       "  </thead>\n",
       "  <tbody>\n",
       "    <tr>\n",
       "      <th>0</th>\n",
       "      <td>196</td>\n",
       "      <td>242</td>\n",
       "      <td>3</td>\n",
       "      <td>881250949</td>\n",
       "      <td>39</td>\n",
       "      <td>117</td>\n",
       "      <td>117</td>\n",
       "    </tr>\n",
       "    <tr>\n",
       "      <th>1</th>\n",
       "      <td>186</td>\n",
       "      <td>302</td>\n",
       "      <td>3</td>\n",
       "      <td>891717742</td>\n",
       "      <td>92</td>\n",
       "      <td>297</td>\n",
       "      <td>297</td>\n",
       "    </tr>\n",
       "    <tr>\n",
       "      <th>2</th>\n",
       "      <td>22</td>\n",
       "      <td>377</td>\n",
       "      <td>1</td>\n",
       "      <td>878887116</td>\n",
       "      <td>128</td>\n",
       "      <td>13</td>\n",
       "      <td>13</td>\n",
       "    </tr>\n",
       "    <tr>\n",
       "      <th>3</th>\n",
       "      <td>244</td>\n",
       "      <td>51</td>\n",
       "      <td>2</td>\n",
       "      <td>880606923</td>\n",
       "      <td>238</td>\n",
       "      <td>81</td>\n",
       "      <td>81</td>\n",
       "    </tr>\n",
       "    <tr>\n",
       "      <th>4</th>\n",
       "      <td>166</td>\n",
       "      <td>346</td>\n",
       "      <td>1</td>\n",
       "      <td>886397596</td>\n",
       "      <td>20</td>\n",
       "      <td>126</td>\n",
       "      <td>126</td>\n",
       "    </tr>\n",
       "  </tbody>\n",
       "</table>\n",
       "</div>"
      ],
      "text/plain": [
       "   user_id  item_id  rating  timestamp  user_counts  item_counts  movie_counts\n",
       "0      196      242       3  881250949           39          117           117\n",
       "1      186      302       3  891717742           92          297           297\n",
       "2       22      377       1  878887116          128           13            13\n",
       "3      244       51       2  880606923          238           81            81\n",
       "4      166      346       1  886397596           20          126           126"
      ]
     },
     "execution_count": 20,
     "metadata": {},
     "output_type": "execute_result"
    }
   ],
   "source": [
    "data.head()  # Lee los 5 primeros registos y muestra el encabezado"
   ]
  },
  {
   "cell_type": "code",
   "execution_count": 22,
   "metadata": {},
   "outputs": [
    {
     "data": {
      "text/plain": [
       "(100000, 7)"
      ]
     },
     "execution_count": 22,
     "metadata": {},
     "output_type": "execute_result"
    }
   ],
   "source": [
    "data.shape  # para saber la dimension del dataset, devuelve nro. de filas y columnas 10000 filas 7 columnas"
   ]
  },
  {
   "cell_type": "code",
   "execution_count": 23,
   "metadata": {},
   "outputs": [
    {
     "data": {
      "text/html": [
       "<div>\n",
       "<style scoped>\n",
       "    .dataframe tbody tr th:only-of-type {\n",
       "        vertical-align: middle;\n",
       "    }\n",
       "\n",
       "    .dataframe tbody tr th {\n",
       "        vertical-align: top;\n",
       "    }\n",
       "\n",
       "    .dataframe thead th {\n",
       "        text-align: right;\n",
       "    }\n",
       "</style>\n",
       "<table border=\"1\" class=\"dataframe\">\n",
       "  <thead>\n",
       "    <tr style=\"text-align: right;\">\n",
       "      <th></th>\n",
       "      <th>user_id</th>\n",
       "      <th>item_id</th>\n",
       "      <th>rating</th>\n",
       "      <th>timestamp</th>\n",
       "      <th>user_counts</th>\n",
       "      <th>item_counts</th>\n",
       "      <th>movie_counts</th>\n",
       "    </tr>\n",
       "  </thead>\n",
       "  <tbody>\n",
       "    <tr>\n",
       "      <th>99995</th>\n",
       "      <td>880</td>\n",
       "      <td>476</td>\n",
       "      <td>3</td>\n",
       "      <td>880175444</td>\n",
       "      <td>368</td>\n",
       "      <td>160</td>\n",
       "      <td>160</td>\n",
       "    </tr>\n",
       "    <tr>\n",
       "      <th>99996</th>\n",
       "      <td>716</td>\n",
       "      <td>204</td>\n",
       "      <td>5</td>\n",
       "      <td>879795543</td>\n",
       "      <td>269</td>\n",
       "      <td>350</td>\n",
       "      <td>350</td>\n",
       "    </tr>\n",
       "    <tr>\n",
       "      <th>99997</th>\n",
       "      <td>276</td>\n",
       "      <td>1090</td>\n",
       "      <td>1</td>\n",
       "      <td>874795795</td>\n",
       "      <td>518</td>\n",
       "      <td>37</td>\n",
       "      <td>37</td>\n",
       "    </tr>\n",
       "    <tr>\n",
       "      <th>99998</th>\n",
       "      <td>13</td>\n",
       "      <td>225</td>\n",
       "      <td>2</td>\n",
       "      <td>882399156</td>\n",
       "      <td>636</td>\n",
       "      <td>109</td>\n",
       "      <td>109</td>\n",
       "    </tr>\n",
       "    <tr>\n",
       "      <th>99999</th>\n",
       "      <td>12</td>\n",
       "      <td>203</td>\n",
       "      <td>3</td>\n",
       "      <td>879959583</td>\n",
       "      <td>51</td>\n",
       "      <td>182</td>\n",
       "      <td>182</td>\n",
       "    </tr>\n",
       "  </tbody>\n",
       "</table>\n",
       "</div>"
      ],
      "text/plain": [
       "       user_id  item_id  rating  timestamp  user_counts  item_counts  \\\n",
       "99995      880      476       3  880175444          368          160   \n",
       "99996      716      204       5  879795543          269          350   \n",
       "99997      276     1090       1  874795795          518           37   \n",
       "99998       13      225       2  882399156          636          109   \n",
       "99999       12      203       3  879959583           51          182   \n",
       "\n",
       "       movie_counts  \n",
       "99995           160  \n",
       "99996           350  \n",
       "99997            37  \n",
       "99998           109  \n",
       "99999           182  "
      ]
     },
     "execution_count": 23,
     "metadata": {},
     "output_type": "execute_result"
    }
   ],
   "source": [
    "data.tail()  # lista los ultimos registros del dataframe"
   ]
  },
  {
   "cell_type": "code",
   "execution_count": 24,
   "metadata": {},
   "outputs": [
    {
     "data": {
      "text/plain": [
       "Index(['user_id', 'item_id', 'rating', 'timestamp', 'user_counts',\n",
       "       'item_counts', 'movie_counts'],\n",
       "      dtype='object')"
      ]
     },
     "execution_count": 24,
     "metadata": {},
     "output_type": "execute_result"
    }
   ],
   "source": [
    "data.columns # obtiene los indices de las columnas del dataframe"
   ]
  },
  {
   "cell_type": "code",
   "execution_count": 25,
   "metadata": {},
   "outputs": [
    {
     "data": {
      "text/plain": [
       "array(['user_id', 'item_id', 'rating', 'timestamp', 'user_counts',\n",
       "       'item_counts', 'movie_counts'], dtype=object)"
      ]
     },
     "execution_count": 25,
     "metadata": {},
     "output_type": "execute_result"
    }
   ],
   "source": [
    "data.columns.values # obtiene los valores de las columnas del dataframe"
   ]
  },
  {
   "cell_type": "markdown",
   "metadata": {},
   "source": [
    "## Resumen estadistico de las variables numéricas\n"
   ]
  },
  {
   "cell_type": "code",
   "execution_count": 26,
   "metadata": {},
   "outputs": [
    {
     "data": {
      "text/html": [
       "<div>\n",
       "<style scoped>\n",
       "    .dataframe tbody tr th:only-of-type {\n",
       "        vertical-align: middle;\n",
       "    }\n",
       "\n",
       "    .dataframe tbody tr th {\n",
       "        vertical-align: top;\n",
       "    }\n",
       "\n",
       "    .dataframe thead th {\n",
       "        text-align: right;\n",
       "    }\n",
       "</style>\n",
       "<table border=\"1\" class=\"dataframe\">\n",
       "  <thead>\n",
       "    <tr style=\"text-align: right;\">\n",
       "      <th></th>\n",
       "      <th>user_id</th>\n",
       "      <th>item_id</th>\n",
       "      <th>rating</th>\n",
       "      <th>timestamp</th>\n",
       "      <th>user_counts</th>\n",
       "      <th>item_counts</th>\n",
       "      <th>movie_counts</th>\n",
       "    </tr>\n",
       "  </thead>\n",
       "  <tbody>\n",
       "    <tr>\n",
       "      <th>count</th>\n",
       "      <td>100000.00000</td>\n",
       "      <td>100000.000000</td>\n",
       "      <td>100000.000000</td>\n",
       "      <td>1.000000e+05</td>\n",
       "      <td>100000.000000</td>\n",
       "      <td>100000.000000</td>\n",
       "      <td>100000.000000</td>\n",
       "    </tr>\n",
       "    <tr>\n",
       "      <th>mean</th>\n",
       "      <td>462.48475</td>\n",
       "      <td>425.530130</td>\n",
       "      <td>3.529860</td>\n",
       "      <td>8.835289e+08</td>\n",
       "      <td>202.008120</td>\n",
       "      <td>168.071900</td>\n",
       "      <td>168.071900</td>\n",
       "    </tr>\n",
       "    <tr>\n",
       "      <th>std</th>\n",
       "      <td>266.61442</td>\n",
       "      <td>330.798356</td>\n",
       "      <td>1.125674</td>\n",
       "      <td>5.343856e+06</td>\n",
       "      <td>139.232713</td>\n",
       "      <td>121.784558</td>\n",
       "      <td>121.784558</td>\n",
       "    </tr>\n",
       "    <tr>\n",
       "      <th>min</th>\n",
       "      <td>1.00000</td>\n",
       "      <td>1.000000</td>\n",
       "      <td>1.000000</td>\n",
       "      <td>8.747247e+08</td>\n",
       "      <td>20.000000</td>\n",
       "      <td>1.000000</td>\n",
       "      <td>1.000000</td>\n",
       "    </tr>\n",
       "    <tr>\n",
       "      <th>25%</th>\n",
       "      <td>254.00000</td>\n",
       "      <td>175.000000</td>\n",
       "      <td>3.000000</td>\n",
       "      <td>8.794487e+08</td>\n",
       "      <td>98.000000</td>\n",
       "      <td>71.000000</td>\n",
       "      <td>71.000000</td>\n",
       "    </tr>\n",
       "    <tr>\n",
       "      <th>50%</th>\n",
       "      <td>447.00000</td>\n",
       "      <td>322.000000</td>\n",
       "      <td>4.000000</td>\n",
       "      <td>8.828269e+08</td>\n",
       "      <td>181.000000</td>\n",
       "      <td>145.000000</td>\n",
       "      <td>145.000000</td>\n",
       "    </tr>\n",
       "    <tr>\n",
       "      <th>75%</th>\n",
       "      <td>682.00000</td>\n",
       "      <td>631.000000</td>\n",
       "      <td>4.000000</td>\n",
       "      <td>8.882600e+08</td>\n",
       "      <td>278.000000</td>\n",
       "      <td>239.000000</td>\n",
       "      <td>239.000000</td>\n",
       "    </tr>\n",
       "    <tr>\n",
       "      <th>max</th>\n",
       "      <td>943.00000</td>\n",
       "      <td>1682.000000</td>\n",
       "      <td>5.000000</td>\n",
       "      <td>8.932866e+08</td>\n",
       "      <td>737.000000</td>\n",
       "      <td>583.000000</td>\n",
       "      <td>583.000000</td>\n",
       "    </tr>\n",
       "  </tbody>\n",
       "</table>\n",
       "</div>"
      ],
      "text/plain": [
       "            user_id        item_id         rating     timestamp  \\\n",
       "count  100000.00000  100000.000000  100000.000000  1.000000e+05   \n",
       "mean      462.48475     425.530130       3.529860  8.835289e+08   \n",
       "std       266.61442     330.798356       1.125674  5.343856e+06   \n",
       "min         1.00000       1.000000       1.000000  8.747247e+08   \n",
       "25%       254.00000     175.000000       3.000000  8.794487e+08   \n",
       "50%       447.00000     322.000000       4.000000  8.828269e+08   \n",
       "75%       682.00000     631.000000       4.000000  8.882600e+08   \n",
       "max       943.00000    1682.000000       5.000000  8.932866e+08   \n",
       "\n",
       "         user_counts    item_counts   movie_counts  \n",
       "count  100000.000000  100000.000000  100000.000000  \n",
       "mean      202.008120     168.071900     168.071900  \n",
       "std       139.232713     121.784558     121.784558  \n",
       "min        20.000000       1.000000       1.000000  \n",
       "25%        98.000000      71.000000      71.000000  \n",
       "50%       181.000000     145.000000     145.000000  \n",
       "75%       278.000000     239.000000     239.000000  \n",
       "max       737.000000     583.000000     583.000000  "
      ]
     },
     "execution_count": 26,
     "metadata": {},
     "output_type": "execute_result"
    }
   ],
   "source": [
    "data.describe()  "
   ]
  },
  {
   "cell_type": "code",
   "execution_count": 27,
   "metadata": {},
   "outputs": [
    {
     "data": {
      "text/plain": [
       "user_id         int64\n",
       "item_id         int64\n",
       "rating          int64\n",
       "timestamp       int64\n",
       "user_counts     int64\n",
       "item_counts     int64\n",
       "movie_counts    int64\n",
       "dtype: object"
      ]
     },
     "execution_count": 27,
     "metadata": {},
     "output_type": "execute_result"
    }
   ],
   "source": [
    "data.dtypes  # Devuelve el tipo de dato de cada columna"
   ]
  },
  {
   "cell_type": "markdown",
   "metadata": {},
   "source": [
    "## Valores faltantes - verificar columnas con valores nulos"
   ]
  },
  {
   "cell_type": "code",
   "execution_count": 29,
   "metadata": {},
   "outputs": [
    {
     "data": {
      "text/plain": [
       "0        False\n",
       "1        False\n",
       "2        False\n",
       "3        False\n",
       "4        False\n",
       "         ...  \n",
       "99995    False\n",
       "99996    False\n",
       "99997    False\n",
       "99998    False\n",
       "99999    False\n",
       "Name: user_id, Length: 100000, dtype: bool"
      ]
     },
     "execution_count": 29,
     "metadata": {},
     "output_type": "execute_result"
    }
   ],
   "source": [
    "pd.isnull(data[\"user_id\"])  # devuelve falso si no es nulo verdadero si es nulo."
   ]
  },
  {
   "cell_type": "code",
   "execution_count": 49,
   "metadata": {},
   "outputs": [
    {
     "name": "stdout",
     "output_type": "stream",
     "text": [
      "##Se hace sumatoria de los valores nulos si es 0 no hay nulos\n",
      " Valores nulos en user_id 0\n",
      " Valores nulos en item_id 0\n",
      " Valores nulos en rating 0\n"
     ]
    }
   ],
   "source": [
    " ## Se hace sumatoria de los valores nulos si es 0 no hay nulos\n",
    "print(\"Se hace sumatoria de los valores nulos si es 0 no hay nulos\")\n",
    "print(f\" Valores nulos en user_id {pd.isnull(data['user_id']).values.ravel().sum()}\")\n",
    "print(f\" Valores nulos en item_id {pd.isnull(data['item_id']).values.ravel().sum()}\")\n",
    "print(f\" Valores nulos en rating {pd.isnull(data['rating']).values.ravel().sum()}\")\n",
    " \n",
    "\n",
    "    "
   ]
  },
  {
   "cell_type": "markdown",
   "metadata": {},
   "source": [
    "## Cuando contienen valores Null o NaN\n",
    "### Se pueden rellenar dichos campos con valores cero\n",
    "#### Se hace con data3.fillna(0)\n",
    "#### Reemplazar con texto  data3.fillna(\"Desconocido\")\n",
    "#### Reemplazar un campo especìfico  data3[\"body\"].fillna(0)\n",
    "\n",
    "\n"
   ]
  },
  {
   "cell_type": "code",
   "execution_count": 50,
   "metadata": {},
   "outputs": [
    {
     "data": {
      "text/html": [
       "<div>\n",
       "<style scoped>\n",
       "    .dataframe tbody tr th:only-of-type {\n",
       "        vertical-align: middle;\n",
       "    }\n",
       "\n",
       "    .dataframe tbody tr th {\n",
       "        vertical-align: top;\n",
       "    }\n",
       "\n",
       "    .dataframe thead th {\n",
       "        text-align: right;\n",
       "    }\n",
       "</style>\n",
       "<table border=\"1\" class=\"dataframe\">\n",
       "  <thead>\n",
       "    <tr style=\"text-align: right;\">\n",
       "      <th></th>\n",
       "      <th>user_id</th>\n",
       "      <th>item_id</th>\n",
       "      <th>rating</th>\n",
       "      <th>timestamp</th>\n",
       "      <th>user_counts</th>\n",
       "      <th>item_counts</th>\n",
       "      <th>movie_counts</th>\n",
       "    </tr>\n",
       "  </thead>\n",
       "  <tbody>\n",
       "    <tr>\n",
       "      <th>0</th>\n",
       "      <td>196</td>\n",
       "      <td>242</td>\n",
       "      <td>3</td>\n",
       "      <td>881250949</td>\n",
       "      <td>39</td>\n",
       "      <td>117</td>\n",
       "      <td>117</td>\n",
       "    </tr>\n",
       "    <tr>\n",
       "      <th>1</th>\n",
       "      <td>186</td>\n",
       "      <td>302</td>\n",
       "      <td>3</td>\n",
       "      <td>891717742</td>\n",
       "      <td>92</td>\n",
       "      <td>297</td>\n",
       "      <td>297</td>\n",
       "    </tr>\n",
       "    <tr>\n",
       "      <th>2</th>\n",
       "      <td>22</td>\n",
       "      <td>377</td>\n",
       "      <td>1</td>\n",
       "      <td>878887116</td>\n",
       "      <td>128</td>\n",
       "      <td>13</td>\n",
       "      <td>13</td>\n",
       "    </tr>\n",
       "    <tr>\n",
       "      <th>3</th>\n",
       "      <td>244</td>\n",
       "      <td>51</td>\n",
       "      <td>2</td>\n",
       "      <td>880606923</td>\n",
       "      <td>238</td>\n",
       "      <td>81</td>\n",
       "      <td>81</td>\n",
       "    </tr>\n",
       "    <tr>\n",
       "      <th>4</th>\n",
       "      <td>166</td>\n",
       "      <td>346</td>\n",
       "      <td>1</td>\n",
       "      <td>886397596</td>\n",
       "      <td>20</td>\n",
       "      <td>126</td>\n",
       "      <td>126</td>\n",
       "    </tr>\n",
       "    <tr>\n",
       "      <th>...</th>\n",
       "      <td>...</td>\n",
       "      <td>...</td>\n",
       "      <td>...</td>\n",
       "      <td>...</td>\n",
       "      <td>...</td>\n",
       "      <td>...</td>\n",
       "      <td>...</td>\n",
       "    </tr>\n",
       "    <tr>\n",
       "      <th>99995</th>\n",
       "      <td>880</td>\n",
       "      <td>476</td>\n",
       "      <td>3</td>\n",
       "      <td>880175444</td>\n",
       "      <td>368</td>\n",
       "      <td>160</td>\n",
       "      <td>160</td>\n",
       "    </tr>\n",
       "    <tr>\n",
       "      <th>99996</th>\n",
       "      <td>716</td>\n",
       "      <td>204</td>\n",
       "      <td>5</td>\n",
       "      <td>879795543</td>\n",
       "      <td>269</td>\n",
       "      <td>350</td>\n",
       "      <td>350</td>\n",
       "    </tr>\n",
       "    <tr>\n",
       "      <th>99997</th>\n",
       "      <td>276</td>\n",
       "      <td>1090</td>\n",
       "      <td>1</td>\n",
       "      <td>874795795</td>\n",
       "      <td>518</td>\n",
       "      <td>37</td>\n",
       "      <td>37</td>\n",
       "    </tr>\n",
       "    <tr>\n",
       "      <th>99998</th>\n",
       "      <td>13</td>\n",
       "      <td>225</td>\n",
       "      <td>2</td>\n",
       "      <td>882399156</td>\n",
       "      <td>636</td>\n",
       "      <td>109</td>\n",
       "      <td>109</td>\n",
       "    </tr>\n",
       "    <tr>\n",
       "      <th>99999</th>\n",
       "      <td>12</td>\n",
       "      <td>203</td>\n",
       "      <td>3</td>\n",
       "      <td>879959583</td>\n",
       "      <td>51</td>\n",
       "      <td>182</td>\n",
       "      <td>182</td>\n",
       "    </tr>\n",
       "  </tbody>\n",
       "</table>\n",
       "<p>100000 rows × 7 columns</p>\n",
       "</div>"
      ],
      "text/plain": [
       "       user_id  item_id  rating  timestamp  user_counts  item_counts  \\\n",
       "0          196      242       3  881250949           39          117   \n",
       "1          186      302       3  891717742           92          297   \n",
       "2           22      377       1  878887116          128           13   \n",
       "3          244       51       2  880606923          238           81   \n",
       "4          166      346       1  886397596           20          126   \n",
       "...        ...      ...     ...        ...          ...          ...   \n",
       "99995      880      476       3  880175444          368          160   \n",
       "99996      716      204       5  879795543          269          350   \n",
       "99997      276     1090       1  874795795          518           37   \n",
       "99998       13      225       2  882399156          636          109   \n",
       "99999       12      203       3  879959583           51          182   \n",
       "\n",
       "       movie_counts  \n",
       "0               117  \n",
       "1               297  \n",
       "2                13  \n",
       "3                81  \n",
       "4               126  \n",
       "...             ...  \n",
       "99995           160  \n",
       "99996           350  \n",
       "99997            37  \n",
       "99998           109  \n",
       "99999           182  \n",
       "\n",
       "[100000 rows x 7 columns]"
      ]
     },
     "execution_count": 50,
     "metadata": {},
     "output_type": "execute_result"
    }
   ],
   "source": [
    "data2 = data  # Se crea una copia de data en data2 para no afectar el datafreme ofiginal\n",
    "data2.fillna(0)\n",
    "# Se puede borrar los reguitros que contienen valores nulos o NAN\n",
    "# data3 = data\n",
    "# data3.dropna(axis=0,how=\"any\")"
   ]
  },
  {
   "cell_type": "code",
   "execution_count": 62,
   "metadata": {},
   "outputs": [
    {
     "data": {
      "text/plain": [
       "<matplotlib.axes._subplots.AxesSubplot at 0x161b774d1c8>"
      ]
     },
     "execution_count": 62,
     "metadata": {},
     "output_type": "execute_result"
    },
    {
     "data": {
      "image/png": "[encoded data removed]",
      "text/plain": [
       "<Figure size 432x288 with 1 Axes>"
      ]
     },
     "metadata": {
      "needs_background": "light"
     },
     "output_type": "display_data"
    }
   ],
   "source": [
    "data.plot(kind=\"scatter\", x=\"rating\", y=\"item_id\")  # Scatter Plot"
   ]
  },
  {
   "cell_type": "code",
   "execution_count": 66,
   "metadata": {},
   "outputs": [
    {
     "data": {
      "text/plain": [
       "<matplotlib.axes._subplots.AxesSubplot at 0x161b831fc88>"
      ]
     },
     "execution_count": 66,
     "metadata": {},
     "output_type": "execute_result"
    },
    {
     "data": {
      "image/png": "[encoded data removed]",
      "text/plain": [
       "<Figure size 432x288 with 4 Axes>"
      ]
     },
     "metadata": {
      "needs_background": "light"
     },
     "output_type": "display_data"
    }
   ],
   "source": [
    "figure, axs = plt.subplots(2,2, sharey=True,sharex=True)\n",
    "data.plot(kind=\"scatter\", x=\"rating\", y=\"item_id\",ax=axs[0][0])  # Scatter Plot\n",
    "data.plot(kind=\"scatter\", x=\"rating\", y=\"user_id\",ax=axs[0][1])  # Scatter Plot\n",
    "data.plot(kind=\"scatter\", x=\"item_id\", y=\"user_id\",ax=axs[1][0])  # Scatter Plot\n",
    "data.plot(kind=\"scatter\", x=\"user_id\", y=\"item_id\",ax=axs[1][1])  # Scatter Plot"
   ]
  },
  {
   "cell_type": "code",
   "execution_count": 69,
   "metadata": {},
   "outputs": [
    {
     "data": {
      "text/plain": [
       "(array([ 6110., 11370., 27145., 34174., 21201.]),\n",
       " array([1. , 1.8, 2.6, 3.4, 4.2, 5. ]),\n",
       " <a list of 5 Patch objects>)"
      ]
     },
     "execution_count": 69,
     "metadata": {},
     "output_type": "execute_result"
    },
    {
     "data": {
      "image/png": "[encoded data removed]",
      "text/plain": [
       "<Figure size 432x288 with 1 Axes>"
      ]
     },
     "metadata": {
      "needs_background": "light"
     },
     "output_type": "display_data"
    }
   ],
   "source": [
    "plt.hist(data[\"rating\"],bins = 5)"
   ]
  },
  {
   "cell_type": "code",
   "execution_count": 43,
   "metadata": {},
   "outputs": [
    {
     "data": {
      "text/plain": [
       "count    1682.000000\n",
       "mean       59.453032\n",
       "std        80.383846\n",
       "min         1.000000\n",
       "25%         6.000000\n",
       "50%        27.000000\n",
       "75%        80.000000\n",
       "max       583.000000\n",
       "Name: item_id, dtype: float64"
      ]
     },
     "execution_count": 43,
     "metadata": {},
     "output_type": "execute_result"
    }
   ],
   "source": [
    "count_movies = data.item_id.value_counts()\n",
    "count_movies \n",
    "count_movies.describe()\n"
   ]
  },
  {
   "cell_type": "markdown",
   "metadata": {
    "colab_type": "text",
    "id": "Y7f-H9Mmfdkv"
   },
   "source": [
    "**Tarea 1**: Imprimir el porcentaje de usuarios que han visto las 10 peliculas mas populares, e obtener los IDs de las peliculas."
   ]
  },
  {
   "cell_type": "markdown",
   "metadata": {
    "colab_type": "text",
    "id": "coWfX-frftKn"
   },
   "source": [
    "**Tarea 2**: Graficar la distribucion de la cantidad de peliculas que ha visto cada usuario"
   ]
  },
  {
   "cell_type": "markdown",
   "metadata": {
    "colab_type": "text",
    "id": "yVAi-bdPf-YM"
   },
   "source": [
    "**Tarea 3**: Graficar la distribucion de la cantidad de usuarios que han visto cada pelicula"
   ]
  }
 ],
 "metadata": {
  "colab": {
   "authorship_tag": "ABX9TyOl64pjABuc3p4uPZUAViSq",
   "name": "clase 1.ipynb",
   "provenance": []
  },
  "kernelspec": {
   "display_name": "Python 3",
   "language": "python",
   "name": "python3"
  },
  "language_info": {
   "codemirror_mode": {
    "name": "ipython",
    "version": 3
   },
   "file_extension": ".py",
   "mimetype": "text/x-python",
   "name": "python",
   "nbconvert_exporter": "python",
   "pygments_lexer": "ipython3",
   "version": "3.7.7"
  }
 },
 "nbformat": 4,
 "nbformat_minor": 1
}
